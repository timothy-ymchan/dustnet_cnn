{
 "cells": [
  {
   "cell_type": "code",
   "execution_count": 16,
   "id": "38cf8044-7617-4815-9de1-c3a7fdd3c327",
   "metadata": {},
   "outputs": [],
   "source": [
    "import numpy as np\n",
    "import matplotlib.pyplot as plt\n",
    "from numpy.fft import fftn, ifftn, fftfreq, fftshift\n",
    "from scipy.stats import binned_statistic\n",
    "from matplotlib.backends.backend_pdf import PdfPages"
   ]
  },
  {
   "cell_type": "code",
   "execution_count": 2,
   "id": "1c9d9bfb-fe03-44c0-95fc-094805197009",
   "metadata": {},
   "outputs": [],
   "source": [
    "def read_npy(paths,sep=2):\n",
    "    npys = []\n",
    "    for i,path in enumerate(paths):\n",
    "        npys.append(np.load(path))\n",
    "        if i % sep == 0:\n",
    "            print(f'{i}:Loading {path} {npys[-1].shape}')\n",
    "    print(f'Total of {len(npys)} files loaded')\n",
    "    return npys"
   ]
  },
  {
   "cell_type": "code",
   "execution_count": 3,
   "id": "1416d378-de65-483b-af3d-afb211253d04",
   "metadata": {},
   "outputs": [
    {
     "name": "stdout",
     "output_type": "stream",
     "text": [
      "/mnt/home/tchan1/ceph/mldust-ver2/data/npy/TurbPar.out2.00103.hdf5-vel.npy\n"
     ]
    }
   ],
   "source": [
    "!ls ~/ceph/mldust-ver2/data/npy/TurbPar.out2.00103.hdf5-vel.npy"
   ]
  },
  {
   "cell_type": "code",
   "execution_count": 4,
   "id": "11e92c12-cfaf-49a7-a428-e1725148b808",
   "metadata": {},
   "outputs": [
    {
     "name": "stdout",
     "output_type": "stream",
     "text": [
      "/mnt/home/tchan1/ceph/mldust-ver2/data/npy-kdrive3-8/TurbPar.out2.00010.hdf5-vp.npy\n"
     ]
    }
   ],
   "source": [
    "!ls ~/ceph/mldust-ver2/data/npy-kdrive3-8/TurbPar.out2.00010.hdf5-vp.npy"
   ]
  },
  {
   "cell_type": "code",
   "execution_count": 5,
   "id": "d1d7691f-83e1-49fa-9dc6-7a085b351e3b",
   "metadata": {},
   "outputs": [
    {
     "name": "stdout",
     "output_type": "stream",
     "text": [
      "0:Loading /mnt/home/tchan1/ceph/mldust-ver2/data/npy/TurbPar.out2.00103.hdf5-vel.npy (3, 256, 256, 256)\n",
      "Total of 1 files loaded\n",
      "0:Loading /mnt/home/tchan1/ceph/mldust-ver2/data/npy-kdrive3-8/TurbPar.out2.00010.hdf5-vp.npy (3, 256, 256, 256)\n",
      "Total of 1 files loaded\n"
     ]
    }
   ],
   "source": [
    "vg_normal = read_npy(['/mnt/home/tchan1/ceph/mldust-ver2/data/npy/TurbPar.out2.00103.hdf5-vel.npy'])[0]\n",
    "vg_kdrive = read_npy(['/mnt/home/tchan1/ceph/mldust-ver2/data/npy-kdrive3-8/TurbPar.out2.00010.hdf5-vp.npy'])[0]"
   ]
  },
  {
   "cell_type": "code",
   "execution_count": 6,
   "id": "a9ed3598-a006-4f5a-9e69-fa15844a1577",
   "metadata": {},
   "outputs": [],
   "source": [
    "dx = 1/256\n",
    "dV = dx*dx*dx"
   ]
  },
  {
   "cell_type": "code",
   "execution_count": 7,
   "id": "58bd0ec9-79b4-4163-8511-8e8718075653",
   "metadata": {},
   "outputs": [
    {
     "data": {
      "text/plain": [
       "((3, 256, 256, 256), (3, 256, 256, 256))"
      ]
     },
     "execution_count": 7,
     "metadata": {},
     "output_type": "execute_result"
    }
   ],
   "source": [
    "vg_normal.shape,vg_kdrive.shape"
   ]
  },
  {
   "cell_type": "code",
   "execution_count": 8,
   "id": "400d6809-6b81-4fc5-b79c-73fd10bdcc3a",
   "metadata": {},
   "outputs": [
    {
     "data": {
      "text/plain": [
       "(0.03235923498868942, 0.012164151296019554)"
      ]
     },
     "execution_count": 8,
     "metadata": {},
     "output_type": "execute_result"
    }
   ],
   "source": [
    "np.sum(vg_normal**2)*dV, np.sum(vg_kdrive**2)*dV"
   ]
  },
  {
   "cell_type": "code",
   "execution_count": null,
   "id": "aa5ce20a-629d-459c-9143-7ed44674e592",
   "metadata": {},
   "outputs": [],
   "source": []
  },
  {
   "cell_type": "code",
   "execution_count": 9,
   "id": "52987b37-0e27-46a2-88bc-508845d5f8e0",
   "metadata": {},
   "outputs": [],
   "source": [
    "def power_spec(vg):\n",
    "    freq = fftfreq(256,1/256)\n",
    "    fx,fy,fz = np.meshgrid(freq,freq,freq)\n",
    "    f = np.sqrt(fx**2 + fy**2 + fz**2)\n",
    "    freqBins = np.geomspace(np.min(f)+0.5,np.max(f),20+1)\n",
    "    powers = []\n",
    "    #raw_powers = []\n",
    "    for i in range(3):\n",
    "        spectrum = fftn(vg[i])*dV\n",
    "        spectrum = np.real(spectrum*np.conjugate(spectrum))\n",
    "        powers.append(spectrum)\n",
    "        #raw_powers.append(spectrum)\n",
    "    \n",
    "    powers = np.stack(powers)\n",
    "    print(powers.shape)\n",
    "    powers = np.sum(powers, axis=0)\n",
    "    print(powers.shape)\n",
    "    print('Total power before binning: ',np.sum(powers))\n",
    "    powers, binEdges, _ = binned_statistic(f.flatten(),powers.flatten(), statistic='sum',bins=freqBins)\n",
    "        \n",
    "    binCenters = np.sqrt(binEdges[1:]*binEdges[:-1])\n",
    "    print('Total powre after binning: ',np.sum(powers*(binEdges[1:]-binEdges[:-1])))\n",
    "    return {'freqCenters':binCenters, 'power':powers, 'freqEdges':binEdges}"
   ]
  },
  {
   "cell_type": "code",
   "execution_count": 10,
   "id": "6a1b0467-70d9-41e0-87fb-f3b7dc18a653",
   "metadata": {},
   "outputs": [
    {
     "name": "stdout",
     "output_type": "stream",
     "text": [
      "(3, 256, 256, 256)\n",
      "(256, 256, 256)\n",
      "Total power before binning:  0.03235923397547089\n",
      "Total powre after binning:  0.07691537719184367\n"
     ]
    }
   ],
   "source": [
    "normal_spec =  power_spec(vg_normal)"
   ]
  },
  {
   "cell_type": "code",
   "execution_count": 11,
   "id": "763cda61-e235-47a5-9a73-ed1179b2bb9b",
   "metadata": {},
   "outputs": [
    {
     "name": "stdout",
     "output_type": "stream",
     "text": [
      "(3, 256, 256, 256)\n",
      "(256, 256, 256)\n",
      "Total power before binning:  0.01216416732251286\n",
      "Total powre after binning:  0.05872118213600986\n"
     ]
    }
   ],
   "source": [
    "kdrive_spec = power_spec(vg_kdrive)"
   ]
  },
  {
   "cell_type": "code",
   "execution_count": 12,
   "id": "40afb1cc-1f0a-4e21-bbf1-d5c928b4868d",
   "metadata": {},
   "outputs": [],
   "source": [
    "#freqCenter.shape, power.shape, freqEdges.shape"
   ]
  },
  {
   "cell_type": "code",
   "execution_count": 13,
   "id": "d1372f2e-40de-4a7e-8fc3-1dc930b727a4",
   "metadata": {},
   "outputs": [],
   "source": [
    "#np.sum(freqCenter*power*(freqEdges[1:]-freqEdges[:-1]))"
   ]
  },
  {
   "cell_type": "code",
   "execution_count": 14,
   "id": "6af33033-bbfa-4c4b-8c0b-b6493073f334",
   "metadata": {},
   "outputs": [],
   "source": [
    "plt.rcParams.update({\n",
    "    \"text.usetex\": True,\n",
    "    \"font.family\": \"serif\",\n",
    "    \"font.sans-serif\": [\"Helvetica\"]})"
   ]
  },
  {
   "cell_type": "code",
   "execution_count": null,
   "id": "acf0eb2f-dc42-451a-843d-b108c2d96c1a",
   "metadata": {},
   "outputs": [],
   "source": [
    "with PdfPages('vg_power_spectrum.pdf') as pdf:\n",
    "    fig,axs = plt.subplots(nrows=1,ncols=1,figsize=(7,5),dpi=600,constrained_layout=True)\n",
    "\n",
    "    axs.loglog(normal_spec['freqCenters'],normal_spec['power']/normal_spec['freqCenters']**2,ls='-',marker='o',label=r'$k_{drive}=(1,5)$')\n",
    "    axs.loglog(kdrive_spec['freqCenters'],kdrive_spec['power']/kdrive_spec['freqCenters']**2,ls='-',marker='x',label=r'$k_{drive}=(3,8)$')\n",
    "    axs.set_xlabel(r'$k$ [Box size$^{-1}$]',fontsize=21)\n",
    "    axs.set_ylabel(r'$E(k)$',fontsize=21)\n",
    "    axs.axvline(1,color='tab:blue',ls='--',alpha=0.2)\n",
    "    axs.axvline(5,color='tab:blue',ls='--',alpha=0.2)\n",
    "\n",
    "    axs.axvline(3,color='tab:orange',ls='--',alpha=0.2)\n",
    "    axs.axvline(8,color='tab:orange',ls='--',alpha=0.2)\n",
    "\n",
    "    axs.set_title(r'Power spectrum of $v_g$',fontsize=21)\n",
    "\n",
    "    yl,yh = plt.gca().get_ylim()\n",
    "    axs.set_ylim(yl,yh)\n",
    "\n",
    "    x15 = np.linspace(1,5)\n",
    "    x38 = np.linspace(3,8)\n",
    "    axs.fill_between(x15,yl,yh,color='tab:blue',alpha=0.1)\n",
    "    axs.fill_between(x38,yl,yh,color='tab:orange',alpha=0.1)\n",
    "    axs.legend(fontsize=15)\n",
    "    pdf.savefig(fig)"
   ]
  },
  {
   "cell_type": "markdown",
   "id": "19abd5f5-c04d-4128-a736-b41f13eb8a56",
   "metadata": {},
   "source": [
    "# "
   ]
  },
  {
   "cell_type": "code",
   "execution_count": null,
   "id": "90864e66-4e06-49db-8de3-1b6be28936e0",
   "metadata": {},
   "outputs": [],
   "source": []
  },
  {
   "cell_type": "code",
   "execution_count": null,
   "id": "89efb606-5a2d-485b-8567-c3de0d3c55c7",
   "metadata": {},
   "outputs": [],
   "source": []
  }
 ],
 "metadata": {
  "kernelspec": {
   "display_name": "Python 3 (ipykernel)",
   "language": "python",
   "name": "python3"
  },
  "language_info": {
   "codemirror_mode": {
    "name": "ipython",
    "version": 3
   },
   "file_extension": ".py",
   "mimetype": "text/x-python",
   "name": "python",
   "nbconvert_exporter": "python",
   "pygments_lexer": "ipython3",
   "version": "3.9.12"
  }
 },
 "nbformat": 4,
 "nbformat_minor": 5
}
