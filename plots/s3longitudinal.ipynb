{
 "cells": [
  {
   "cell_type": "markdown",
   "id": "92bc5c37-3e87-48c2-a546-d3990707156d",
   "metadata": {},
   "source": [
    "# Calculating the $S_3$ for the simulations \n",
    "Calculate $S_3(r)$ so that we can estimate the energy injection rates\n",
    "\n",
    "The definition is simple, we do:\n",
    "$$\n",
    "\\langle \\left[\\left(\\vec v\\left(\\vec r+\\vec\\ell\\right)-\\vec v\\left(\\vec r\\right)\\right)\\cdot\\frac{\\vec \\ell}{\\ell}\\right]^3\\rangle\n",
    "$$"
   ]
  },
  {
   "cell_type": "code",
   "execution_count": 1,
   "id": "9681e785-ebdb-42a7-a579-af79ec4ca366",
   "metadata": {
    "tags": []
   },
   "outputs": [],
   "source": [
    "import numpy as np\n",
    "from scipy import stats\n",
    "\n",
    "\"\"\" Calculate the energy spectrum as a function of radius\n",
    "\n",
    "Parameters\n",
    "----------\n",
    "data : dict\n",
    "       Athena dictionary of primitive values\n",
    "dust : bool, optional\n",
    "       If the energy spectrum of the dust (True) or gas (False) component should be calculated. Default: False.\n",
    "       \n",
    "Returns\n",
    "-------\n",
    "bins  : ndarray\n",
    "        1D array of frequency bins for which the spectrum was calculated\n",
    "datab : ndarray\n",
    "        1D array containing the energy spectrum\n",
    "\"\"\"\n",
    "\n",
    "def energySpectrum(data,dust=False):\n",
    "\n",
    "    n1,n2,n3 =data['RootGridSize']\n",
    "    x3 = data['x3v']\n",
    "    d3 = data['x3f'][1]-data['x3f'][0]\n",
    "    f3 = 1./d3\n",
    "    \n",
    "    if(dust):\n",
    "        v1 = data['vp1']\n",
    "        v2 = data['vp2']\n",
    "        v3 = data['vp3']\n",
    "        rho= data['rhop']\n",
    "    else:\n",
    "        v1 = data['vel1']\n",
    "        v2 = data['vel2']\n",
    "        v3 = data['vel3']\n",
    "        rho= data['rho']\n",
    "\n",
    "    fftv1 =np.fft.fftn(v1)/(n1*n2*n3)\n",
    "    fftv2 =np.fft.fftn(v2)/(n1*n2*n3)\n",
    "    fftv3 =np.fft.fftn(v3)/(n1*n2*n3)\n",
    "\n",
    "    k3 = np.fft.fftfreq(n3, d3)\n",
    "    #k3 = k3[:k3.size//2]\n",
    "    k = np.sqrt(k3[:,None,None]*k3[:,None,None]+k3[None,:,None]*k3[None,:,None]+k3[None,None,:]*k3[None,None,:])\n",
    "    #k.shape\n",
    "    Ek = np.real(fftv1*fftv1.conjugate()+fftv2*fftv2.conjugate()+fftv3*fftv3.conjugate())\n",
    "    \n",
    "    kmax=np.ceil(np.amax(k))\n",
    "    bins_edge = np.arange(1.0,kmax,1)-0.5\n",
    "    bins = np.arange(1.0,kmax-1,1)\n",
    "\n",
    "    espec = np.stack((k.flatten(),Ek.flatten()),axis=-1)\n",
    "    #print data.shape\n",
    "    datab,__,__ = stats.binned_statistic(espec[:,0],espec[:,1],bins=bins_edge,statistic='sum')\n",
    "    \n",
    "    return bins,datab/2.0\n",
    "    \n",
    "\"\"\"Calculates the vorticity\n",
    "\n",
    "Calculates the components of the 3 dim. vorticity vector assuming periodic boundaries in all dimensions\n",
    "\n",
    "Parameters\n",
    "----------\n",
    "data : dict\n",
    "       Athena dictionary of primitive values\n",
    "\n",
    "Returns\n",
    "-------\n",
    "vox, voy, voz : ndarray\n",
    "                3 dim. arrays containing the x, y ,z component of vorticity, respecitively\n",
    "\n",
    "\"\"\"    \n",
    "    \n",
    "def vorticity(data):\n",
    "    \n",
    "    #get box size\n",
    "    L1 = data['RootGridX1'][2]\n",
    "    L2 = data['RootGridX2'][2]\n",
    "    L3 = data['RootGridX3'][2]\n",
    "    \n",
    "    #get cell center positions and add periodic boundary values\n",
    "    x = np.append(np.insert(data['x1v'],0,data['x1v'][-1]-L1),data['x1v'][0]+L1)\n",
    "    y = np.append(np.insert(data['x2v'],0,data['x2v'][-1]-L2),data['x2v'][0]+L2)\n",
    "    z = np.append(np.insert(data['x3v'],0,data['x3v'][-1]-L3),data['x3v'][0]+L3)\n",
    "    \n",
    "    \n",
    "    #get velocities and assign boundary values (periodic for now)\n",
    "    n3,n2,n1=data[\"RootGridSize\"]\n",
    "    \n",
    "    vx =np.empty((n1+2,n2+2,n3+2))\n",
    "    vy =np.empty((n1+2,n2+2,n3+2))\n",
    "    vz =np.empty((n1+2,n2+2,n3+2))\n",
    "    \n",
    "    vx[1:-1,1:-1,1:-1] = np.swapaxes(data['vel1'],0,2)\n",
    "    vy[1:-1,1:-1,1:-1] = np.swapaxes(data['vel2'],0,2)\n",
    "    vz[1:-1,1:-1,1:-1] = np.swapaxes(data['vel3'],0,2)\n",
    "    \n",
    "    vx[0,:,:]  = vx[-2,:,:]\n",
    "    vx[-1,:,:] = vx[1,:,:]\n",
    "    vy[:,0,:]  = vy[:,-2,:]\n",
    "    vy[:,-1,:] = vy[:,1,:]\n",
    "    vz[:,:,0]  = vz[:,:,-2]\n",
    "    vz[:,:,-1] = vz[:,:,1]\n",
    "    \n",
    "    #initialize vorticity arrays\n",
    "    \n",
    "    vox = np.zeros(tuple(data[\"RootGridSize\"]))\n",
    "    voy = np.zeros(tuple(data[\"RootGridSize\"]))\n",
    "    voz = np.zeros(tuple(data[\"RootGridSize\"]))\n",
    "    \n",
    "    #calculate vorticity using second order central derivatives inside domain\n",
    "    vox = (vz[1:-1,2:,1:-1]-vz[1:-1,:-2,1:-1])/((y[2:]-y[:-2])[None,:,None]) \\\n",
    "        - (vy[1:-1,1:-1,2:]-vy[1:-1,1:-1,:-2])/((z[2:]-z[:-2])[None,None,:]) #dy vz -dz vy\n",
    "    \n",
    "    voy = (vx[1:-1,1:-1,2:]-vx[1:-1,1:-1,:-2])/((z[2:]-z[:-2])[None,None,:]) \\\n",
    "        - (vz[2:,1:-1,1:-1]-vz[:-2,1:-1,1:-1])/((x[2:]-x[:-2])[:,None,None]) #dz vx -dx vz\n",
    "    \n",
    "    voz = (vy[2:,1:-1,1:-1]-vy[:-2,1:-1,1:-1])/((x[2:]-x[:-2])[:,None,None]) \\\n",
    "        - (vx[1:-1,2:,1:-1]-vx[1:-1,:-2,1:-1])/((y[2:]-y[:-2])[None,:,None]) #dx vy -dy vx\n",
    "    \n",
    "    return vox,voy,voz\n",
    "    \n",
    "    \n",
    "\"\"\"Calculate Kolmogorov time microscale\n",
    "   \n",
    "   Calculate time scale corresponding to the Kolmogorove microscale using the full Strain-Rate tensor.\n",
    "\n",
    "Parameters\n",
    "----------\n",
    "data : dict\n",
    "       Athena dictionary of primitive values\n",
    "\n",
    "Returns\n",
    "-------\n",
    "tscale : float\n",
    "         Time mircoscale\n",
    "\n",
    "\n",
    "\"\"\"\n",
    "def tMicroscale(data):\n",
    "    \n",
    "    #get box size\n",
    "    L1 = data['RootGridX1'][2]\n",
    "    L2 = data['RootGridX2'][2]\n",
    "    L3 = data['RootGridX3'][2]\n",
    "    \n",
    "    #get cell center positions and add periodic boundary values\n",
    "    x = np.append(np.insert(data['x1v'],0,data['x1v'][-1]-L1),data['x1v'][0]+L1)\n",
    "    y = np.append(np.insert(data['x2v'],0,data['x2v'][-1]-L2),data['x2v'][0]+L2)\n",
    "    z = np.append(np.insert(data['x3v'],0,data['x3v'][-1]-L3),data['x3v'][0]+L3)\n",
    "    \n",
    "    \n",
    "    #get velocities and assign boundary values (periodic for now)\n",
    "    n3,n2,n1=data[\"RootGridSize\"]\n",
    "    \n",
    "    vx =np.empty((n1+2,n2+2,n3+2))\n",
    "    vy =np.empty((n1+2,n2+2,n3+2))\n",
    "    vz =np.empty((n1+2,n2+2,n3+2))\n",
    "    \n",
    "    vx[1:-1,1:-1,1:-1] = np.swapaxes(data['vel1'],0,2)\n",
    "    vy[1:-1,1:-1,1:-1] = np.swapaxes(data['vel2'],0,2)\n",
    "    vz[1:-1,1:-1,1:-1] = np.swapaxes(data['vel3'],0,2)\n",
    "    \n",
    "    vx[0,:,:]  = vx[-2,:,:]\n",
    "    vx[-1,:,:] = vx[1,:,:]\n",
    "    vy[:,0,:]  = vy[:,-2,:]\n",
    "    vy[:,-1,:] = vy[:,1,:]\n",
    "    vz[:,:,0]  = vz[:,:,-2]\n",
    "    vz[:,:,-1] = vz[:,:,1]\n",
    "    \n",
    "    #initialize Strain rate tensor array (only 6 components as tensor is symmetric)\n",
    "    \n",
    "    E = np.zeros((6,n1,n2,n3))\n",
    "    \n",
    "    #calculate vorticity using second order central derivatives\n",
    "    \n",
    "    E[0,:,:,:] = (vx[2:,1:-1,1:-1]-vx[:-2,1:-1,1:-1])/((x[2:]-x[:-2])[None,None,:]) #E11 = dx vx\n",
    "    \n",
    "    E[1,:,:,:] = (vy[1:-1,2:,1:-1]-vy[1:-1,:-2,1:-1])/((y[2:]-y[:-2])[:,None,None]) #E22 = dy vy\n",
    "    \n",
    "    E[2,:,:,:] = (vz[1:-1,1:-1,2:]-vz[1:-1,1:-1,:-2])/((z[2:]-z[:-2])[None,:,None]) #E33 = dz vz\n",
    "    \n",
    "    E[3,:,:,:] = 0.5*((vy[2:,1:-1,1:-1]-vy[:-2,1:-1,1:-1])/((x[2:]-x[:-2])[:,None,None])\n",
    "                          + (vx[1:-1,2:,1:-1]-vx[1:-1,:-2,1:-1])/((y[2:]-y[:-2])[None,:,None])) #E12=E21= dx vy +dy vx\n",
    "    \n",
    "    E[4,:,:,:] = 0.5*((vx[1:-1,1:-1,2:]-vx[1:-1,1:-1,:-2])/((z[2:]-z[:-2])[None,None,:])\n",
    "                          + (vz[2:,1:-1,1:-1]-vz[:-2,1:-1,1:-1])/((x[2:]-x[:-2])[:,None,None])) #E13=E31= dz vx +dx vz\n",
    "    \n",
    "    E[5,:,:,:] = 0.5*((vz[1:-1,2:,1:-1]-vz[1:-1,:-2,1:-1])/((y[2:]-y[:-2])[None,:,None])\n",
    "                          + (vy[1:-1,1:-1,2:]-vy[1:-1,1:-1,:-2])/((z[2:]-z[:-2])[None,None,:])) #E23=E32= dy vz +dz vy\n",
    "    \n",
    "    \n",
    "    tinv = np.sqrt(2.0*np.mean(E[0]*E[0]+E[1]*E[1]+E[2]*E[2]+2*E[3]*E[3]+2*E[4]*E[4]+2*E[5]*E[5]))\n",
    "    \n",
    "    return 1.0/tinv\n",
    "    \n",
    " \n",
    "\"\"\" Periodic Euclidean distance metric\n",
    "\n",
    "Calculates the euclidean distance between point x and point y assuming a periodic box with length boxl in all directions\n",
    "\n",
    "Parameters\n",
    "----------\n",
    "x,y  : ndarray\n",
    "       Points of which to calculate the mutual distance, trailing axes dimension has to match\n",
    "boxl : float\n",
    "       Length of the periodic box\n",
    "\n",
    "Returns\n",
    "-------\n",
    "dist : float\n",
    "       distance between points\n",
    " \n",
    "\"\"\"\n",
    "def distance(x,y,boxl):\n",
    "    #calculate the distance form point x=(x1,x2,x3) to point y=(y1,y2,y3)\n",
    "    #boxl = 1.0\n",
    "    sep = np.abs(x - y)\n",
    "    dist = np.sqrt(np.sum((np.where(sep>boxl/2.,np.abs(sep-boxl),sep))**2,axis=-1))\n",
    "    return dist\n",
    "    \n",
    "\n",
    " \n",
    "\"\"\"Calculate the 3rd order longitudinal structure function for specific distance\n",
    "\n",
    "Parameters\n",
    "----------\n",
    "data : dict\n",
    "       Athena dictionary of primitive values\n",
    "\n",
    "r    : float\n",
    "       correlation distance \n",
    "       \n",
    "Returns\n",
    "-------\n",
    "s3long : float\n",
    "\n",
    "\"\"\" \n",
    "def S3longitudinal(data,r):\n",
    "    z,y,x=np.meshgrid(data['x3v'],data['x2v'],data['x1v'],indexing='ij')\n",
    "    pos3D=np.stack((x,y,z),axis=-1)\n",
    "    dx=data['x3f'][1]-data['x3f'][0]\n",
    "    \n",
    "    #build initial distance mask\n",
    "    xc = pos3D[0,0,0]\n",
    "    dist = distance(pos3D,xc,1.0)\n",
    "    cond = ((dist>r-dx*0.6) & (dist<r+dx*0.6))\n",
    "    where = np.where(cond)\n",
    "    \n",
    "    s3sum = 0.0\n",
    "    nitems = 0\n",
    "    n3,n2,n1=data[\"RootGridSize\"]\n",
    "    for k in range(0,n3):\n",
    "        for j in range(0,n2):\n",
    "            for i in range(0,n1):\n",
    "                #\n",
    "                xc = pos3D[k,j,i]\n",
    "                vc=np.array([data['vel1'][k,j,i],data['vel2'][k,j,i],data['vel3'][k,j,i]])\n",
    "                \n",
    "                #roll mask to new position\n",
    "                mask = ((where[0]+k)%n3,(where[1]+j)%n2 ,(where[2]+i)%n1)\n",
    "                \n",
    "                vcond = np.stack((data['vel1'][mask],data['vel2'][mask],data['vel3'][mask]),axis=-1)\n",
    "                poscond = pos3D[mask]\n",
    "\n",
    "                \n",
    "                rel = poscond - xc\n",
    "                lens = np.sqrt(np.sum(rel**2,axis=-1))\n",
    "                erel = rel/lens[:,None]\n",
    "\n",
    "                s3sum += np.sum(np.power(np.sum((vcond-vc)*erel,axis=-1),3.0))\n",
    "                nitems +=poscond.shape[0]\n",
    "                #print(nitems,\"\\n\")\n",
    "    \n",
    "    return s3sum/float(nitems)"
   ]
  },
  {
   "cell_type": "code",
   "execution_count": 1,
   "id": "77a0694b-146c-4e9e-9283-baeac1a0e3aa",
   "metadata": {},
   "outputs": [],
   "source": [
    "import glob\n",
    "import athena_read\n",
    "import h5py\n",
    "import matplotlib.pyplot as plt\n",
    "def read_athdf(paths,sep=2):\n",
    "    athdfs = []\n",
    "    paths = [p for p in glob.glob(paths)]\n",
    "    for i, path in enumerate(paths):\n",
    "        athdfs.append(athena_read.athdf(path))\n",
    "        if i % sep == 0:\n",
    "            print(f'{i}:Loading {path}')\n",
    "    print(f'Total of {len(athdfs)} files loaded')\n",
    "    return athdfs"
   ]
  },
  {
   "cell_type": "code",
   "execution_count": null,
   "id": "a8b01105-51de-4763-9255-571af93923bb",
   "metadata": {},
   "outputs": [],
   "source": []
  },
  {
   "cell_type": "code",
   "execution_count": 2,
   "id": "bfc3560d-e4e6-4f5a-adf5-27816e062bad",
   "metadata": {},
   "outputs": [
    {
     "name": "stdout",
     "output_type": "stream",
     "text": [
      "0:Loading ../athenaMLdata/data/TurbPar.out2.00103.athdf\n",
      "Total of 1 files loaded\n"
     ]
    }
   ],
   "source": [
    "normal = read_athdf('../athenaMLdata/data/*103*')"
   ]
  },
  {
   "cell_type": "code",
   "execution_count": 3,
   "id": "82d72dbc-eb50-4de4-bc7a-0b9467f22ce6",
   "metadata": {
    "tags": []
   },
   "outputs": [],
   "source": [
    "def S3longitudinal_Sampling(data, r,samples=5000):\n",
    "    z,y,x=np.meshgrid(data['x3v'],data['x2v'],data['x1v'],indexing='ij')\n",
    "    pos3D=np.stack((x,y,z),axis=-1)\n",
    "    dx=data['x3f'][1]-data['x3f'][0]\n",
    "    \n",
    "    #build initial distance mask\n",
    "    xc = pos3D[0,0,0]\n",
    "    dist = distance(pos3D,xc,1.0)\n",
    "    cond = ((dist>r-dx*0.6) & (dist<r+dx*0.6))\n",
    "    where = np.where(cond)\n",
    "    \n",
    "    #print(pos3D.shape)\n",
    "    \n",
    "    s3sum = 0.0\n",
    "    nitems = 0\n",
    "    n3,n2,n1=data[\"RootGridSize\"]\n",
    "    \n",
    "    sample_coords = np.random.choice(n1*n2*n3,samples)\n",
    "    \n",
    "    for sample_coord in sample_coords:\n",
    "        k,j,i = sample_coord % n3, (sample_coord//n3)%n2, ((sample_coord//n3)//n2)%n1\n",
    "        \n",
    "        xc = pos3D[k,j,i]\n",
    "        vc=np.array([data['vel1'][k,j,i],data['vel2'][k,j,i],data['vel3'][k,j,i]])\n",
    "\n",
    "        #roll mask to new position\n",
    "        mask = ((where[0]+k)%n3,(where[1]+j)%n2 ,(where[2]+i)%n1)\n",
    "\n",
    "        vcond = np.stack((data['vel1'][mask],data['vel2'][mask],data['vel3'][mask]),axis=-1)\n",
    "        poscond = pos3D[mask]\n",
    "\n",
    "\n",
    "        rel = poscond - xc\n",
    "        lens = np.sqrt(np.sum(rel**2,axis=-1))\n",
    "        erel = rel/lens[:,None]\n",
    "\n",
    "        s3sum += np.sum(np.power(np.sum((vcond-vc)*erel,axis=-1),3.0))\n",
    "        nitems +=poscond.shape[0]\n",
    "        #print(nitems,\"\\n\")\n",
    "    \n",
    "    return s3sum/float(nitems)"
   ]
  },
  {
   "cell_type": "code",
   "execution_count": null,
   "id": "b74ad84b-afcb-49a8-9cbe-6fadee43b0c9",
   "metadata": {},
   "outputs": [],
   "source": [
    "s3_vals = []"
   ]
  },
  {
   "cell_type": "code",
   "execution_count": 37,
   "id": "761e9035-7cdc-472d-a80f-efc92a719695",
   "metadata": {
    "tags": []
   },
   "outputs": [
    {
     "name": "stdout",
     "output_type": "stream",
     "text": [
      "Iteration:  1\n"
     ]
    }
   ],
   "source": [
    "for i in range(100):\n",
    "    s3_vals.append(S3longitudinal_Sampling(normal[0],0.01,50000))\n",
    "    if i % 100 == 0:\n",
    "        print('Iteration: ', i+1)"
   ]
  },
  {
   "cell_type": "code",
   "execution_count": 44,
   "id": "4f6acff3-d874-4a06-a019-8e9a7b908a94",
   "metadata": {},
   "outputs": [
    {
     "data": {
      "text/plain": [
       "Text(0.5, 1.0, 'Distribution of 200 for r = 0.01')"
      ]
     },
     "execution_count": 44,
     "metadata": {},
     "output_type": "execute_result"
    },
    {
     "data": {
      "image/png": "[encoded data removed]",
      "text/plain": [
       "<Figure size 432x288 with 1 Axes>"
      ]
     },
     "metadata": {
      "needs_background": "light"
     },
     "output_type": "display_data"
    }
   ],
   "source": [
    "plt.hist(np.array(s3_vals)/1e-5,bins=15)\n",
    "plt.title(f'Distribution of {len(s3_vals)} for r = {0.01}')"
   ]
  },
  {
   "cell_type": "code",
   "execution_count": 46,
   "id": "c7159092-b842-495c-8fe0-ef70d04ad6cd",
   "metadata": {
    "collapsed": true,
    "jupyter": {
     "outputs_hidden": true
    },
    "tags": []
   },
   "outputs": [
    {
     "name": "stdout",
     "output_type": "stream",
     "text": [
      "Iteration:  0\n",
      "Iteration:  50\n",
      "Iteration:  100\n",
      "Iteration:  150\n",
      "Iteration:  200\n",
      "Iteration:  250\n",
      "Iteration:  300\n",
      "Iteration:  350\n",
      "Iteration:  400\n",
      "Iteration:  450\n",
      "Iteration:  500\n",
      "Iteration:  550\n",
      "Iteration:  600\n",
      "Iteration:  650\n",
      "Iteration:  700\n",
      "Iteration:  750\n",
      "Iteration:  800\n",
      "Iteration:  850\n",
      "Iteration:  900\n",
      "Iteration:  950\n"
     ]
    }
   ],
   "source": [
    "s3_val_2 = []\n",
    "for i in range(1000):\n",
    "    s3_val_2.append(S3longitudinal_Sampling(normal[0],0.06,1000))\n",
    "    if i % 50 == 0:\n",
    "        print('Iteration: ',i)"
   ]
  },
  {
   "cell_type": "code",
   "execution_count": 73,
   "id": "b45ff81e-f4b2-4084-a4cc-f73b300e15dc",
   "metadata": {},
   "outputs": [
    {
     "data": {
      "text/plain": [
       "<matplotlib.legend.Legend at 0x7f6bffc84100>"
      ]
     },
     "execution_count": 73,
     "metadata": {},
     "output_type": "execute_result"
    },
    {
     "data": {
      "image/png": "[encoded data removed]",
      "text/plain": [
       "<Figure size 432x288 with 1 Axes>"
      ]
     },
     "metadata": {
      "needs_background": "light"
     },
     "output_type": "display_data"
    }
   ],
   "source": [
    "plt.hist(np.array(s3_val_2)/1e-4,bins=15)\n",
    "plt.title(f'Distribution of {len(s3_val_2)} instances for r = {0.06}')\n",
    "plt.axvline(np.mean(np.array(s3_val_2))/1e-4,color='tab:orange',label='Mean')\n",
    "plt.text(0.8*np.mean(np.array(s3_val_2))/1e-4, 100,f'Mean: {np.mean(np.array(s3_val_2))/1e-4:.3f}')\n",
    "plt.axvline(-0.00019207848434542844/1e-4,color='tab:red',ls='--',label='True')\n",
    "plt.legend()"
   ]
  },
  {
   "cell_type": "code",
   "execution_count": 20,
   "id": "2988aaf0-994c-4a13-9b1f-8950f95b0888",
   "metadata": {},
   "outputs": [
    {
     "data": {
      "text/plain": [
       "-1.2293694867510075e-05"
      ]
     },
     "execution_count": 20,
     "metadata": {},
     "output_type": "execute_result"
    }
   ],
   "source": [
    "S3longitudinal(normal[0],0.01)"
   ]
  },
  {
   "cell_type": "code",
   "execution_count": 113,
   "id": "be873334-1ab4-4692-8c71-055edd453545",
   "metadata": {},
   "outputs": [
    {
     "data": {
      "text/plain": [
       "array([0.01281774, 0.01415193, 0.015625  , 0.0172514 ])"
      ]
     },
     "execution_count": 113,
     "metadata": {},
     "output_type": "execute_result"
    }
   ],
   "source": [
    "rs = np.geomspace(1/128,1,50)\n",
    "rs[5:9]"
   ]
  },
  {
   "cell_type": "code",
   "execution_count": null,
   "id": "078c5ae2-4148-426f-ae43-f5f0873eb326",
   "metadata": {},
   "outputs": [],
   "source": [
    "for r in rs[5:9]:\n",
    "    s3_val = S3longitudinal(normal[0],r)\n",
    "    print(f\"{r}\\t{s3_val}\")\n",
    "    write_line('./s3-normal.txt',f\"{r},{s3_val}\") # Write results to buffer because it takes long to run a line"
   ]
  },
  {
   "cell_type": "code",
   "execution_count": 117,
   "id": "47a60595-733e-41af-bc14-34e6366f5ffc",
   "metadata": {},
   "outputs": [
    {
     "name": "stdout",
     "output_type": "stream",
     "text": [
      "Iteration:  1 r= 0.0078125\n",
      "Iteration:  6 r= 0.012817739937619347\n",
      "Iteration:  11 r= 0.021029690509880565\n",
      "Iteration:  16 r= 0.034502797302306626\n",
      "Iteration:  21 r= 0.05660772901649417\n",
      "Iteration:  26 r= 0.09287464307105925\n",
      "Iteration:  31 r= 0.15237670677555942\n",
      "Iteration:  36 r= 0.24999999999999994\n",
      "Iteration:  41 r= 0.410167678003819\n",
      "Iteration:  46 r= 0.6729500963161779\n"
     ]
    },
    {
     "name": "stderr",
     "output_type": "stream",
     "text": [
      "/tmp/ipykernel_134/2019070574.py:41: RuntimeWarning: invalid value encountered in double_scalars\n",
      "  return s3sum/float(nitems)\n"
     ]
    }
   ],
   "source": [
    "#print(rs[]rs[::2])\n",
    "for i,r in enumerate(rs):\n",
    "    s3_val = S3longitudinal_Sampling(normal[0],r,samples=10000)\n",
    "    write_line('./s3-normal-sampling-10000-50-pts.txt',f\"{r},{s3_val}\") \n",
    "    if i % 5 == 0:\n",
    "        print('Iteration: ',i+1,'r=',r)"
   ]
  },
  {
   "cell_type": "code",
   "execution_count": 34,
   "id": "f0b61e17-e9d3-4a0f-8613-04ee4751f7b0",
   "metadata": {},
   "outputs": [],
   "source": [
    "def write_line(filename, value):\n",
    "    with open(filename,'a') as f:\n",
    "        f.write(value+'\\n')\n",
    "def clear_file(filename):\n",
    "    with open(filename,\"w\") as f:\n",
    "        f.write(\"\")"
   ]
  },
  {
   "cell_type": "code",
   "execution_count": 35,
   "id": "2ce0d175-25cf-4be5-99ef-62c42e9c8078",
   "metadata": {},
   "outputs": [],
   "source": [
    "write_line('./s3-normal.txt',\"1\")"
   ]
  },
  {
   "cell_type": "code",
   "execution_count": 36,
   "id": "fcc6fb1c-049e-4333-b444-822d9a69e780",
   "metadata": {},
   "outputs": [],
   "source": [
    "clear_file('./s3-normal.txt')"
   ]
  },
  {
   "cell_type": "code",
   "execution_count": 37,
   "id": "862c07ae-27f4-45fa-803d-6c779c7f1e87",
   "metadata": {},
   "outputs": [],
   "source": [
    "import pandas as pd "
   ]
  },
  {
   "cell_type": "code",
   "execution_count": 41,
   "id": "d54c1774-0d81-4c00-b3b1-1f7f1689634b",
   "metadata": {},
   "outputs": [],
   "source": [
    "sampling_5000   = pd.read_csv('./s3-normal-sampling.txt',header=None)\n",
    "sampling_10000  = pd.read_csv('./s3-normal-sampling-10000-50-pts.txt',header=None)\n",
    "sampling_100000 = pd.read_csv('./s3-normal-sampling-100000-50-pts.txt',header=None)\n",
    "no_sampling = pd.read_csv('./s3-normal.txt',header=None)"
   ]
  },
  {
   "cell_type": "code",
   "execution_count": 75,
   "id": "8eacf582-da81-4cf2-9e35-174e15daad22",
   "metadata": {},
   "outputs": [
    {
     "data": {
      "text/plain": [
       "Text(0, 0.5, '$-(5/4)S_3(r)/r$')"
      ]
     },
     "execution_count": 75,
     "metadata": {},
     "output_type": "execute_result"
    },
    {
     "data": {
      "image/png": "[encoded data removed]",
      "text/plain": [
       "<Figure size 432x288 with 1 Axes>"
      ]
     },
     "metadata": {
      "needs_background": "light"
     },
     "output_type": "display_data"
    }
   ],
   "source": [
    "plt.plot(sampling_5000[0],-(5/4)*sampling_5000[1]/sampling_5000[0],label='Sampling 5000')\n",
    "plt.plot(sampling_10000[0],-(5/4)*sampling_10000[1]/sampling_10000[0],label='Sampling 10000')\n",
    "plt.plot(sampling_100000[0],-(5/4)*sampling_100000[1]/sampling_100000[0],label='Sampling 100000')\n",
    "plt.plot(no_sampling[0],-(5/4)*no_sampling[1]/no_sampling[0],label='Full domain')\n",
    "plt.axvline(0.5,color='grey',ls='--')\n",
    "plt.axvline(0.05,color='grey',ls='--')\n",
    "plt.legend()\n",
    "plt.grid(which='major')\n",
    "plt.grid(which='minor')\n",
    "plt.xscale('log')\n",
    "#plt.yscale('log')\n",
    "#plt.xlim(0.5e-1,1)\n",
    "#plt.ylim(1e-4,1e-3)\n",
    "plt.title('Third-order structure function')\n",
    "plt.xlabel(r'Separation $\\quadr$')\n",
    "plt.ylabel(r'$-(5/4)S_3(r)/r$')"
   ]
  },
  {
   "cell_type": "code",
   "execution_count": 73,
   "id": "2ccc125e-d62b-4ed6-9b0d-faade05a89f4",
   "metadata": {},
   "outputs": [
    {
     "data": {
      "text/plain": [
       "Text(0, 0.5, '$-(5/4)S_3(r)/r$')"
      ]
     },
     "execution_count": 73,
     "metadata": {},
     "output_type": "execute_result"
    },
    {
     "data": {
      "image/png": "[encoded data removed]",
      "text/plain": [
       "<Figure size 432x288 with 1 Axes>"
      ]
     },
     "metadata": {
      "needs_background": "light"
     },
     "output_type": "display_data"
    }
   ],
   "source": [
    "plt.plot(sampling_5000[0],sampling_5000[1],label='Sampling 5000')\n",
    "plt.plot(sampling_10000[0],sampling_10000[1],label='Sampling 10000')\n",
    "plt.plot(sampling_100000[0],sampling_100000[1],label='Sampling 100000')\n",
    "plt.plot(no_sampling[0],no_sampling[1],label='Full domain')\n",
    "plt.axvline(0.5,color='grey',ls='--')\n",
    "plt.axvline(0.1,color='grey',ls='--')\n",
    "plt.legend()\n",
    "plt.grid(which='major')\n",
    "plt.grid(which='minor')\n",
    "#plt.xscale('log')\n",
    "#plt.yscale('log')\n",
    "#plt.xlim(0.5e-1,1)\n",
    "#plt.ylim(1e-4,1e-3)\n",
    "plt.title('Third-order structure function')\n",
    "plt.xlabel(r'Separation $\\quadr$')\n",
    "plt.ylabel(r'$-(5/4)S_3(r)/r$')"
   ]
  },
  {
   "cell_type": "markdown",
   "id": "455c1db3-be86-4541-a53e-64be6605eb3a",
   "metadata": {},
   "source": [
    "## Multiprocessing sampling"
   ]
  },
  {
   "cell_type": "code",
   "execution_count": 4,
   "id": "d581ad0d-85b6-48c8-b078-309e0817bde4",
   "metadata": {
    "jupyter": {
     "source_hidden": true
    },
    "tags": []
   },
   "outputs": [],
   "source": [
    "# Parallel code for computing the S3 longitudinal structure\n",
    "# Adapted from Natascha's code\n",
    "\n",
    "import multiprocessing as multip\n",
    "import numpy as np\n",
    "from scipy import stats\n",
    "\n",
    "def distance(x,y,boxl):\n",
    "    #calculate the distance form point x=(x1,x2,x3) to point y=(y1,y2,y3)\n",
    "    #boxl = 1.0\n",
    "    sep = np.abs(x - y)\n",
    "    dist = np.sqrt(np.sum((np.where(sep>boxl/2.,np.abs(sep-boxl),sep))**2,axis=-1))\n",
    "    return dist\n",
    "\n",
    "def S3longitudinal_Sampling_ByCoord(agrs):\n",
    "    data, r, sample_coords = agrs['data'], agrs['r'], agrs['sample_coords']\n",
    "    z,y,x=np.meshgrid(data['x3v'],data['x2v'],data['x1v'],indexing='ij')\n",
    "    pos3D=np.stack((x,y,z),axis=-1)\n",
    "    dx=data['x3f'][1]-data['x3f'][0]\n",
    "    \n",
    "    #build initial distance mask\n",
    "    xc = pos3D[0,0,0]\n",
    "    dist = distance(pos3D,xc,1.0)\n",
    "    cond = ((dist>r-dx*0.6) & (dist<r+dx*0.6))\n",
    "    where = np.where(cond)\n",
    "    \n",
    "    #print(pos3D.shape)\n",
    "    \n",
    "    s3sum = 0.0\n",
    "    nitems = 0\n",
    "    n3,n2,n1=data[\"RootGridSize\"]\n",
    "    \n",
    "    assert all([coord < n1*n2*n3 for coord in sample_coords]), \"The sampling coordinates should not exceed the number of grids!\"\n",
    "    \n",
    "    for sample_coord in sample_coords:\n",
    "        k,j,i = sample_coord % n3, (sample_coord//n3)%n2, ((sample_coord//n3)//n2)%n1\n",
    "        \n",
    "        xc = pos3D[k,j,i]\n",
    "        vc=np.array([data['vel1'][k,j,i],data['vel2'][k,j,i],data['vel3'][k,j,i]])\n",
    "\n",
    "        #roll mask to new position\n",
    "        mask = ((where[0]+k)%n3,(where[1]+j)%n2 ,(where[2]+i)%n1)\n",
    "\n",
    "        vcond = np.stack((data['vel1'][mask],data['vel2'][mask],data['vel3'][mask]),axis=-1)\n",
    "        poscond = pos3D[mask]\n",
    "\n",
    "\n",
    "        rel = poscond - xc\n",
    "        lens = np.sqrt(np.sum(rel**2,axis=-1))\n",
    "        erel = rel/lens[:,None]\n",
    "\n",
    "        s3sum += np.sum(np.power(np.sum((vcond-vc)*erel,axis=-1),3.0))\n",
    "        nitems +=poscond.shape[0]\n",
    "        #print(nitems,\"\\n\")\n",
    "    \n",
    "    return s3sum/float(nitems)\n",
    "\n",
    "def make_chunks(arr, nchunks):\n",
    "    assert nchunks <= len(arr), \"The number of chunks cannot exceed the size of array\"\n",
    "    \n",
    "    # Calculate the chunk size to split\n",
    "    res = len(arr) % nchunks\n",
    "    chunk_size = len(arr)//nchunks\n",
    "    \n",
    "    chunks = []\n",
    "    start, end = 0,0\n",
    "    for i in range(nchunks):\n",
    "        window_size = chunk_size+1 if i < res else chunk_size\n",
    "        \n",
    "        end = start + window_size\n",
    "        \n",
    "        if i == nchunks -1:\n",
    "            end = len(arr)\n",
    "            \n",
    "        chunks.append(arr[start:end])\n",
    "        \n",
    "        start += window_size\n",
    "            \n",
    "    return chunks\n",
    "\n",
    "\n",
    "def S3longitudinal_Sampling_Multiproc(data,r,nsamples,nproc):\n",
    "    n3,n2,n1=data[\"RootGridSize\"]\n",
    "    \n",
    "    nchunks = nsamples//nproc\n",
    "    sample_coords = np.random.choice(n1*n2*n3,nsamples)\n",
    "    sample_chunks = make_chunks(sample_coords,nproc) # Break the coordinates into chunks \n",
    "    chunks_size = [len(chunk) for chunk in sample_chunks]\n",
    "\n",
    "    map_agrs = [{'r':r,'data':data,'sample_coords':sample_chunk} for sample_chunk in sample_chunks]\n",
    "    \n",
    "    #print([len(map_agr['sample_coords']) for map_agr in map_agrs])\n",
    "    #print(sum([len(map_agr['sample_coords']) for map_agr in map_agrs]))\n",
    "\n",
    "    with multip.Pool(nproc) as pool:\n",
    "        s3_stats = pool.map(S3longitudinal_Sampling_ByCoord,map_agrs)\n",
    "\n",
    "    del map_agrs # Clean things up\n",
    "\n",
    "    return sum([s3_stat*csize for s3_stat,csize in zip(s3_stats,chunks_size)])/nsamples\n",
    "\n"
   ]
  },
  {
   "cell_type": "code",
   "execution_count": 16,
   "id": "7b5cef2e-7cab-4b08-b10f-a2aba7162c87",
   "metadata": {},
   "outputs": [
    {
     "name": "stdout",
     "output_type": "stream",
     "text": [
      "Number of processors:  1\n",
      "s3 estimate:  -0.00022736682774030314\n",
      "Processing time: 159.91130995750427 sec\n",
      "Number of processors:  2\n",
      "s3 estimate:  -0.00022493974824357673\n",
      "Processing time: 87.728844165802 sec\n",
      "Number of processors:  3\n",
      "s3 estimate:  -0.0002290043928537006\n",
      "Processing time: 61.37628889083862 sec\n",
      "Number of processors:  4\n",
      "s3 estimate:  -0.0002227053471717344\n",
      "Processing time: 50.493820905685425 sec\n",
      "Number of processors:  5\n",
      "s3 estimate:  -0.00023109493132173007\n",
      "Processing time: 44.00821304321289 sec\n"
     ]
    }
   ],
   "source": [
    "#import timeit\n",
    "import time\n",
    "cpu_count = 7\n",
    "runtimes = []\n",
    "for nproc in range(1,6):\n",
    "    print('Number of processors: ',nproc)\n",
    "    st = time.time()\n",
    "    s3_val = S3longitudinal_Sampling_Multiproc(data=normal[0],r=0.09287,nsamples=100000,nproc=nproc)\n",
    "    print('s3 estimate: ',s3_val)\n",
    "    et = time.time()\n",
    "    print(f'Processing time: {et-st} sec')\n",
    "    runtimes.append(et-st)"
   ]
  },
  {
   "cell_type": "code",
   "execution_count": 30,
   "id": "76abfaa9-e584-49b8-89c1-661e1f490baf",
   "metadata": {},
   "outputs": [
    {
     "data": {
      "image/png": "[encoded data removed]",
      "text/plain": [
       "<Figure size 432x288 with 1 Axes>"
      ]
     },
     "metadata": {
      "needs_background": "light"
     },
     "output_type": "display_data"
    }
   ],
   "source": [
    "runtimes\n",
    "speedups = [runtimes[0]/runtime for runtime in runtimes]\n",
    "processors = np.arange(5) + 1\n",
    "plt.plot(processors,speedups,marker='o')\n",
    "plt.ylabel(r'Speedup $T_1/T_p$')\n",
    "plt.xlabel(r'Number of processors $P$')\n",
    "plt.xticks(processors)\n",
    "plt.grid()"
   ]
  },
  {
   "cell_type": "code",
   "execution_count": null,
   "id": "cce7978f-a840-4044-b5f4-678d7ecb3965",
   "metadata": {},
   "outputs": [],
   "source": [
    "\"\"\"\n",
    "0.08411876203952225,-0.00021238156133953322\n",
    "0.09287464307105925,-0.0002398889771557637\n",
    "0.10254191950095472,-0.0002325353336290004\n",
    "\"\"\""
   ]
  },
  {
   "cell_type": "code",
   "execution_count": 76,
   "id": "00909e82-e7fa-431e-b1d0-ebdfd061d579",
   "metadata": {},
   "outputs": [
    {
     "data": {
      "text/plain": [
       "0.5960464477539062"
      ]
     },
     "execution_count": 76,
     "metadata": {},
     "output_type": "execute_result"
    }
   ],
   "source": [
    "(100000/256**3)*100"
   ]
  },
  {
   "cell_type": "code",
   "execution_count": 35,
   "id": "53dd2568-e6fc-4cfb-ae12-6b819f95ec5e",
   "metadata": {
    "jupyter": {
     "source_hidden": true
    },
    "tags": []
   },
   "outputs": [
    {
     "name": "stdout",
     "output_type": "stream",
     "text": [
      "Iteration:  1 r= 0.0078125\n",
      "Iteration:  6 r= 0.012817739937619347\n",
      "Iteration:  11 r= 0.021029690509880565\n",
      "Iteration:  16 r= 0.034502797302306626\n",
      "Iteration:  21 r= 0.05660772901649417\n",
      "Iteration:  26 r= 0.09287464307105925\n",
      "Iteration:  31 r= 0.15237670677555942\n",
      "Iteration:  36 r= 0.24999999999999994\n",
      "Iteration:  41 r= 0.410167678003819\n",
      "Iteration:  46 r= 0.6729500963161779\n"
     ]
    },
    {
     "name": "stderr",
     "output_type": "stream",
     "text": [
      "/tmp/ipykernel_339/1737926930.py:56: RuntimeWarning: invalid value encountered in double_scalars\n",
      "  return s3sum/float(nitems)\n",
      "/tmp/ipykernel_339/1737926930.py:56: RuntimeWarning: invalid value encountered in double_scalars\n",
      "  return s3sum/float(nitems)\n",
      "/tmp/ipykernel_339/1737926930.py:56: RuntimeWarning: invalid value encountered in double_scalars\n",
      "  return s3sum/float(nitems)\n",
      "/tmp/ipykernel_339/1737926930.py:56: RuntimeWarning: invalid value encountered in double_scalars\n",
      "  return s3sum/float(nitems)\n",
      "/tmp/ipykernel_339/1737926930.py:56: RuntimeWarning: invalid value encountered in double_scalars\n",
      "  return s3sum/float(nitems)\n",
      "/tmp/ipykernel_339/1737926930.py:56: RuntimeWarning: invalid value encountered in double_scalars\n",
      "  return s3sum/float(nitems)\n",
      "/tmp/ipykernel_339/1737926930.py:56: RuntimeWarning: invalid value encountered in double_scalars\n",
      "  return s3sum/float(nitems)\n",
      "/tmp/ipykernel_339/1737926930.py:56: RuntimeWarning: invalid value encountered in double_scalars\n",
      "  return s3sum/float(nitems)\n",
      "/tmp/ipykernel_339/1737926930.py:56: RuntimeWarning: invalid value encountered in double_scalars\n",
      "  return s3sum/float(nitems)\n",
      "/tmp/ipykernel_339/1737926930.py:56: RuntimeWarning: invalid value encountered in double_scalars\n",
      "  return s3sum/float(nitems)\n"
     ]
    }
   ],
   "source": [
    "rs = np.geomspace(1/128,1,50)\n",
    "nproc=5\n",
    "for i,r in enumerate(rs):\n",
    "    s3_val = S3longitudinal_Sampling_Multiproc(data=normal[0],r=r,nsamples=100000,nproc=nproc) # 100,000 samples run\n",
    "    write_line('./s3-normal-sampling-100000-50-pts.txt',f\"{r},{s3_val}\") \n",
    "    if i % 5 == 0:\n",
    "        print('Iteration: ',i+1,'r=',r)"
   ]
  },
  {
   "cell_type": "code",
   "execution_count": null,
   "id": "334913b5-381a-47f4-bd79-0b3e4649a163",
   "metadata": {},
   "outputs": [],
   "source": []
  }
 ],
 "metadata": {
  "kernelspec": {
   "display_name": "Python 3 (ipykernel)",
   "language": "python",
   "name": "python3"
  },
  "language_info": {
   "codemirror_mode": {
    "name": "ipython",
    "version": 3
   },
   "file_extension": ".py",
   "mimetype": "text/x-python",
   "name": "python",
   "nbconvert_exporter": "python",
   "pygments_lexer": "ipython3",
   "version": "3.8.13"
  }
 },
 "nbformat": 4,
 "nbformat_minor": 5
}
