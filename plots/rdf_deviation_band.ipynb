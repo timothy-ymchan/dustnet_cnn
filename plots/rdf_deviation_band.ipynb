{
 "cells": [
  {
   "cell_type": "code",
   "execution_count": 1,
   "id": "6c6fe0e1-1032-4a37-9a51-b3e67fd39ccf",
   "metadata": {},
   "outputs": [],
   "source": [
    "import numpy as np\n",
    "import matplotlib.pyplot as plt\n",
    "import glob \n",
    "import os\n",
    "import json\n",
    "import re"
   ]
  },
  {
   "cell_type": "code",
   "execution_count": 2,
   "id": "84667798-9d3c-4bbc-80ad-aa740e4833d3",
   "metadata": {},
   "outputs": [],
   "source": [
    "def get_frame_id(path):\n",
    "    path = os.path.basename(path)\n",
    "    return re.findall(r'[0-9][0-9][0-9][0-9][0-9]',path)[0]"
   ]
  },
  {
   "cell_type": "code",
   "execution_count": 3,
   "id": "3e2986b0-c3e9-4e4b-9e40-e811d7eec191",
   "metadata": {},
   "outputs": [],
   "source": [
    "valid_set = [get_frame_id(path) for path in sorted(list(glob.glob('/mnt/home/tchan1/ceph/preped-npy/valid-out/*rhop.npy')))]"
   ]
  },
  {
   "cell_type": "code",
   "execution_count": 4,
   "id": "161e3efe-58a3-4ba9-88d8-50e1f490840c",
   "metadata": {},
   "outputs": [
    {
     "data": {
      "text/plain": [
       "['00001',\n",
       " '00004',\n",
       " '00009',\n",
       " '00012',\n",
       " '00017',\n",
       " '00022',\n",
       " '00030',\n",
       " '00034',\n",
       " '00050',\n",
       " '00051']"
      ]
     },
     "execution_count": 4,
     "metadata": {},
     "output_type": "execute_result"
    }
   ],
   "source": [
    "valid_set[:10]"
   ]
  },
  {
   "cell_type": "code",
   "execution_count": 5,
   "id": "c2d70c86-8ed3-44bd-b66f-5f18bbf79af5",
   "metadata": {},
   "outputs": [],
   "source": [
    "def format_json(json, formatter):\n",
    "    for key, val in json.items():\n",
    "        if key in formatter.keys():\n",
    "            json[key] = formatter[key](val)\n",
    "    return json"
   ]
  },
  {
   "cell_type": "code",
   "execution_count": 6,
   "id": "263656ab-5bcd-4873-9812-608fc5187e2e",
   "metadata": {},
   "outputs": [],
   "source": [
    "def get_valid_rdf(path,valid_set):\n",
    "    path = sorted(list(glob.glob(path)))[0]\n",
    "    with open(path,'r') as json_file:\n",
    "        #print(json.load(json_file))\n",
    "        valid_subset = [frame for frame in json.load(json_file) if get_frame_id(frame['rho-path']) in valid_set]\n",
    "        for entry in valid_subset:\n",
    "            formatter = {\n",
    "                        'binEdges':np.array,\n",
    "                        'binCenters':np.array,\n",
    "                        'DCF': np.array,\n",
    "                        'RDF': np.array\n",
    "                    }\n",
    "            format_json(entry,formatter)\n",
    "    return valid_subset\n"
   ]
  },
  {
   "cell_type": "code",
   "execution_count": 7,
   "id": "dd1205dd-576d-46c0-951b-62650aa7155d",
   "metadata": {},
   "outputs": [],
   "source": [
    "def get_valid_vrel(path, valid_set):\n",
    "    paths = sorted(list(glob.glob(path)))\n",
    "    #print(paths)\n",
    "    vrel_list = []\n",
    "    for path in paths:\n",
    "        with open(path,'r') as json_file:\n",
    "            frame = json.load(json_file)\n",
    "            if get_frame_id(frame['rhop-path']) in valid_set:\n",
    "                formatter = {\n",
    "                    'binEdges':np.array,\n",
    "                    'binCenters':np.array,\n",
    "                    'velc_sum': np.array,\n",
    "                    'velc_rad_sum': np.array\n",
    "                }\n",
    "                format_json(frame,formatter)\n",
    "                vrel_list.append(frame)\n",
    "    return vrel_list"
   ]
  },
  {
   "cell_type": "code",
   "execution_count": 8,
   "id": "79bd87e8-bb37-4f6e-91c3-babb18dc7c83",
   "metadata": {},
   "outputs": [],
   "source": [
    "def get_rdf_fluctuation(rdf_list,list_mode=False,with_qunatiles=False):\n",
    "    assert len(rdf_list) >= 1\n",
    "    rdf_items = []\n",
    "    for rdf in rdf_list:\n",
    "        rdf_items.append(rdf['RDF'])\n",
    "    stacked_rdf = np.stack(rdf_items)\n",
    "    rdf_mean = np.median(stacked_rdf,axis=0)\n",
    "    rdf_var  = np.var(stacked_rdf,axis=0)\n",
    "    q1,q3 = np.quantile(stacked_rdf,[0.05,0.95],axis=0)\n",
    "    binCenters = [rdf['binCenters']]*len(rdf_items) if list_mode else rdf['binCenters']\n",
    "    \n",
    "    return {\n",
    "        'binCenters':binCenters,\n",
    "        'items': rdf_items,\n",
    "        'mean': rdf_mean,\n",
    "        'var': rdf_var,\n",
    "        'q1':q1,\n",
    "        'q3':q3\n",
    "    }"
   ]
  },
  {
   "cell_type": "code",
   "execution_count": 9,
   "id": "6e2790f0-0071-4571-9521-f77e58a52f6f",
   "metadata": {},
   "outputs": [],
   "source": [
    "def get_velc_fluctuation(velc_list, list_mode=False):\n",
    "    assert len(velc_list) >= 1\n",
    "    velc_items = []\n",
    "    rad_items  = []\n",
    "    for velc in velc_list:\n",
    "        velc_items.append(velc['velc_sum'])\n",
    "        rad_items.append(velc['velc_rad_sum'])\n",
    "    stacked_velc = np.stack(velc_items)\n",
    "    stacked_rad  = np.stack(rad_items)\n",
    "    velc_median  = np.median(stacked_velc,axis=0)\n",
    "    rad_median   = np.median(stacked_rad, axis=0)\n",
    "    velc_var     = np.var(stacked_velc,axis=0)\n",
    "    rad_var      = np.var(stacked_rad, axis=0)\n",
    "    velc_q1, velc_q3 = np.quantile(stacked_velc,[0.05,0.95],axis=0)\n",
    "    rad_q1,  rad_q3  = np.quantile(stacked_rad, [0.05,0.95],axis=0)\n",
    "    binCenters = [velc['binCenters']]*len(velc_items) if list_mode else velc['binCenters']\n",
    "    \n",
    "    return {\n",
    "        'binCenters':binCenters,\n",
    "        'velc_items': velc_items,\n",
    "        'rad_items': rad_items,\n",
    "        'velc_mean': velc_median,\n",
    "        'rad_mean': rad_median,\n",
    "        'velc_var': velc_var,\n",
    "        'rad_var': rad_var,\n",
    "        'velc_q1': velc_q1, 'velc_q3':velc_q3,\n",
    "        'rad_q1' : rad_q1,  'rad_q3': rad_q3\n",
    "    }\n",
    "    "
   ]
  },
  {
   "cell_type": "code",
   "execution_count": 10,
   "id": "25bbd6d2-84ad-4f32-b24b-39d989636fa0",
   "metadata": {},
   "outputs": [],
   "source": [
    "def get_rdf_ratio_fluctuation(tgt_rdfs, out_rdfs):\n",
    "    sorted_tgt = sorted(tgt_rdfs,key=lambda d: d['rho-path'])\n",
    "    sorted_out = sorted(out_rdfs,key=lambda d: d['rho-path'])\n",
    "    tgt_rdfs = [frame['RDF'] for frame in sorted_tgt]\n",
    "    out_rdfs = [frame['RDF'] for frame in sorted_out]\n",
    "    stack_tgt = np.stack(tgt_rdfs)\n",
    "    stack_out = np.stack(out_rdfs)\n",
    "    \n",
    "    stack_ratio = stack_out/stack_tgt\n",
    "    ratio_median = np.median(stack_ratio, axis=0)\n",
    "    ratio_var    = np.var(stack_ratio,axis=0)\n",
    "    ratio_q1, ratio_q3 = np.quantile(stack_ratio,[0.05,0.95],axis=0)\n",
    "    \n",
    "    return {\n",
    "        'binCenters':sorted_tgt[0]['binCenters'],\n",
    "        'ratio_mean': ratio_median,\n",
    "        'ratio_q1':ratio_q1,\n",
    "        'ratio_q3':ratio_q3\n",
    "    }"
   ]
  },
  {
   "cell_type": "code",
   "execution_count": 11,
   "id": "c9e13a14-364a-4391-a5dc-2b486ee92ed8",
   "metadata": {},
   "outputs": [],
   "source": [
    "def get_vel_ratio_fluctuation(tgt_vrel,out_vrel):\n",
    "    sorted_tgt = sorted(tgt_vrel,key=lambda d: d['rhop-path'])\n",
    "    sorted_out = sorted(out_vrel,key=lambda d: d['rhop-path'])\n",
    "    \n",
    "    tgt_vel = [frame['velc_sum'] for frame in sorted_tgt]\n",
    "    out_vel = [frame['velc_sum'] for frame in sorted_out]\n",
    "    tgt_rad = [frame['velc_rad_sum'] for frame in sorted_tgt]\n",
    "    out_rad = [frame['velc_rad_sum'] for frame in sorted_out]\n",
    "    \n",
    "    stack_tgt_vel = np.stack(tgt_vel)\n",
    "    stack_out_vel = np.stack(out_vel)\n",
    "    stack_tgt_rad = np.stack(tgt_rad)\n",
    "    stack_out_rad = np.stack(out_rad)\n",
    "    \n",
    "    stack_ratio_vel = stack_out_vel/stack_tgt_vel\n",
    "    stack_ratio_rad = stack_out_rad/stack_tgt_rad\n",
    "    \n",
    "    vel_median = np.median(stack_ratio_vel, axis=0)\n",
    "    rad_median = np.median(stack_ratio_rad, axis=0)\n",
    "    \n",
    "    vel_q1, vel_q3 = np.quantile(stack_ratio_vel,[0.05,0.95],axis=0)\n",
    "    rad_q1, rad_q3 = np.quantile(stack_ratio_rad,[0.05,0.95],axis=0)\n",
    "    \n",
    "    return {\n",
    "        'binCenters':sorted_tgt[0]['binCenters'],\n",
    "        'vel_mean': vel_median,\n",
    "        'rad_mean': rad_median,\n",
    "        'vel_q1':vel_q1,'vel_q3':vel_q3,\n",
    "        'rad_q1':rad_q1,'rad_q3':rad_q3\n",
    "    }\n",
    "    "
   ]
  },
  {
   "cell_type": "code",
   "execution_count": 12,
   "id": "fac98c57-b52d-4327-b00f-1df1488d7e62",
   "metadata": {},
   "outputs": [],
   "source": [
    "valid_tgt_rdfs = get_valid_rdf('tgt-normal*.json',valid_set)\n",
    "valid_out_rdfs = get_valid_rdf('out-longer3-1646320938.json',valid_set)\n",
    "valid_tgt_vrel = get_valid_vrel('/mnt/home/tchan1/ceph/grid-stats/tgt-normal/*.json',valid_set)\n",
    "valid_out_vrel = get_valid_vrel('/mnt/home/tchan1/ceph/grid-stats/out-longer3/grid-stat-normal-*.json',valid_set)"
   ]
  },
  {
   "cell_type": "code",
   "execution_count": 13,
   "id": "67c2fe93-f7b3-4c4e-add9-2fc8f9561e3c",
   "metadata": {},
   "outputs": [],
   "source": [
    "valid_tgt_vrel  = [frame for frame in valid_tgt_vrel if get_frame_id(frame['rhop-path']) != '00009']\n",
    "valid_out_vrel = [frame for frame in valid_out_vrel if get_frame_id(frame['rhop-path']) != '00009']"
   ]
  },
  {
   "cell_type": "code",
   "execution_count": 14,
   "id": "9bcc32c5-06c0-4155-a7c4-89fd435c30d9",
   "metadata": {},
   "outputs": [
    {
     "data": {
      "text/plain": [
       "(49, 49)"
      ]
     },
     "execution_count": 14,
     "metadata": {},
     "output_type": "execute_result"
    }
   ],
   "source": [
    "len(valid_tgt_vrel ), len(valid_out_vrel )"
   ]
  },
  {
   "cell_type": "code",
   "execution_count": 15,
   "id": "33bf4a15-6723-419f-b91e-1538dba34504",
   "metadata": {},
   "outputs": [],
   "source": [
    "rdf_tgt = get_rdf_fluctuation(valid_tgt_rdfs)\n",
    "rdf_out = get_rdf_fluctuation(valid_out_rdfs)\n",
    "vel_tgt = get_velc_fluctuation(valid_tgt_vrel)\n",
    "vel_out = get_velc_fluctuation(valid_out_vrel)\n",
    "rdf_ratio   = get_rdf_ratio_fluctuation(valid_tgt_rdfs,valid_out_rdfs)\n",
    "vel_ratio   = get_vel_ratio_fluctuation(valid_tgt_vrel,valid_out_vrel)"
   ]
  },
  {
   "cell_type": "code",
   "execution_count": 16,
   "id": "fc6e170d-4871-473e-a600-0d633645c637",
   "metadata": {},
   "outputs": [],
   "source": [
    "from matplotlib.backends.backend_pdf import PdfPages"
   ]
  },
  {
   "cell_type": "code",
   "execution_count": 17,
   "id": "6e4832fb-f13f-4771-91ad-a4d90fbf90fc",
   "metadata": {},
   "outputs": [],
   "source": [
    "plt.rcParams.update({\n",
    "    \"text.usetex\": True,\n",
    "    \"font.family\": \"serif\",\n",
    "    \"font.sans-serif\": [\"Helvetica\"]})"
   ]
  },
  {
   "cell_type": "code",
   "execution_count": 28,
   "id": "614127e5-1e2f-403c-b94d-31a3c018a77f",
   "metadata": {},
   "outputs": [],
   "source": [
    "mycolors = ['#785EF0', '#DC267F', '#FFB000']"
   ]
  },
  {
   "cell_type": "code",
   "execution_count": null,
   "id": "a8979bfb-4d72-4e9b-abdf-54bc11a5583e",
   "metadata": {},
   "outputs": [],
   "source": [
    "with PdfPages('normal_consistency.pdf') as pdf:\n",
    "    fig, axs = plt.subplots(nrows=2,ncols=3,constrained_layout=True,sharex='col',figsize=(10,6),dpi=600)\n",
    "    \n",
    "    \"\"\"RDF Plots\"\"\"\n",
    "    axs[0][0].plot(rdf_tgt['binCenters'], rdf_tgt['mean'],label='ATHENA++',color=mycolors[0])\n",
    "    axs[0][0].fill_between(rdf_tgt['binCenters'],rdf_tgt['q1'],rdf_tgt['q3'],alpha=0.5,color=mycolors[0])\n",
    "\n",
    "    axs[0][0].plot(rdf_out['binCenters'], rdf_out['mean'],label='UNET-R',color=mycolors[1])\n",
    "    axs[0][0].fill_between(rdf_out['binCenters'],rdf_out['q1'],rdf_out['q3'],alpha=0.5,color=mycolors[1])\n",
    "    axs[0][0].axhline(y=1.0,color='grey',ls='--')\n",
    "    axs[0][0].legend()\n",
    "\n",
    "    axs[0][0].set_yscale('log')\n",
    "    axs[0][0].set_xscale('log')\n",
    "\n",
    "    #axs[1][0].plot(rdf_tgt['binCenters'], rdf_tgt['mean'])\n",
    "    axs[1][0].axhline(y=1.0,color='grey',ls='--')\n",
    "    axs[1][0].set_ylim(0.9,1.08)\n",
    "    axs[1][0].plot(rdf_ratio['binCenters'],rdf_ratio['ratio_mean'],label='UNET-R/ATHENA++',color=mycolors[1])\n",
    "    axs[1][0].fill_between(rdf_ratio['binCenters'],rdf_ratio['ratio_q1'],rdf_ratio['ratio_q3'],alpha=0.5,color=mycolors[1])\n",
    "    axs[1][0].legend()\n",
    "\n",
    "    \"\"\"Relative velocity plots\"\"\"\n",
    "    axs[0][1].plot(vel_tgt['binCenters'],np.sqrt(vel_tgt['velc_mean']),label='ATHENA++',color=mycolors[0])\n",
    "    axs[0][1].fill_between(vel_tgt['binCenters'],np.sqrt(vel_tgt['velc_q1']),np.sqrt(vel_tgt['velc_q3']),alpha=0.5,color=mycolors[0])\n",
    "    axs[0][1].plot(vel_out['binCenters'],np.sqrt(vel_out['velc_mean']),label='UNET-R',color=mycolors[1])\n",
    "    axs[0][1].fill_between(vel_out['binCenters'],np.sqrt(vel_out['velc_q1']),np.sqrt(vel_out['velc_q3']),alpha=0.5,color=mycolors[1])\n",
    "    axs[0][1].legend()\n",
    "    axs[0][1].set_yscale('log')\n",
    "    axs[0][1].set_xscale('log')\n",
    "\n",
    "    axs[1][1].axhline(y=1.0,color='grey',ls='--')\n",
    "    axs[1][1].plot(vel_ratio['binCenters'],vel_ratio['vel_mean'],label='UNET-R/ATHENA++',color=mycolors[1])\n",
    "    axs[1][1].fill_between(vel_ratio['binCenters'],vel_ratio['vel_q1'],vel_ratio['vel_q3'],alpha=0.5,color=mycolors[1])\n",
    "    \n",
    "    \"\"\"axs[1][1].fill_between(vel_tgt['binCenters'],np.sqrt(vel_tgt['velc_q1']/vel_tgt['velc_mean']),np.sqrt(vel_tgt['velc_q3']/vel_tgt['velc_mean']),alpha=0.5)\n",
    "\n",
    "    axs[1][1].plot(vel_out['binCenters'],np.sqrt(vel_out['velc_mean']/vel_tgt['velc_mean']),color='tab:orange',label='UNET-R/ATHENA++')\n",
    "    axs[1][1].fill_between(vel_out['binCenters'],np.sqrt(vel_out['velc_q1']/vel_tgt['velc_mean']),np.sqrt(vel_out['velc_q3']/vel_tgt['velc_mean']),alpha=0.5)\n",
    "    \"\"\"\n",
    "    axs[1][1].legend()\n",
    "    \n",
    "    \"\"\"Relative radial velocity plots\"\"\"\n",
    "    axs[0][2].plot(vel_tgt['binCenters'],np.sqrt(vel_tgt['rad_mean']),label='ATHENA++',color=mycolors[0])\n",
    "    axs[0][2].fill_between(vel_tgt['binCenters'],np.sqrt(vel_tgt['rad_q1']),np.sqrt(vel_tgt['rad_q3']),alpha=0.5,color=mycolors[0])\n",
    "    axs[0][2].plot(vel_out['binCenters'],np.sqrt(vel_out['rad_mean']),label='UNET-R')\n",
    "    axs[0][2].fill_between(vel_out['binCenters'],np.sqrt(vel_out['rad_q1']),np.sqrt(vel_out['rad_q3']),alpha=0.5,color=mycolors[1])\n",
    "    axs[0][2].legend()\n",
    "    axs[0][2].set_yscale('log')\n",
    "    axs[0][2].set_xscale('log')\n",
    "    \n",
    "    \n",
    "    axs[1][2].axhline(y=1.0,color='grey',ls='--')\n",
    "    axs[1][2].plot(vel_ratio['binCenters'],vel_ratio['rad_mean'],label='UNET-R/ATHENA++',color=mycolors[1])\n",
    "    axs[1][2].fill_between(vel_ratio['binCenters'],vel_ratio['rad_q1'],vel_ratio['rad_q3'],alpha=0.5,color=mycolors[1])\n",
    "    \"\"\"axs[1][2].fill_between(vel_tgt['binCenters'],np.sqrt(vel_tgt['rad_q1']/vel_tgt['rad_mean']),np.sqrt(vel_tgt['rad_q3']/vel_tgt['rad_mean']),alpha=0.5)\n",
    "\n",
    "    axs[1][2].plot(vel_out['binCenters'],np.sqrt(vel_out['rad_mean']/vel_tgt['rad_mean']),color='tab:orange',label='UNET-R/ATHENA++')\n",
    "    axs[1][2].fill_between(vel_out['binCenters'],np.sqrt(vel_out['rad_q1']/vel_tgt['rad_mean']),np.sqrt(vel_out['rad_q3']/vel_tgt['rad_mean']),alpha=0.5)\n",
    "    \"\"\"\n",
    "    axs[1][2].legend()\n",
    "\n",
    "    axs[0][0].set_title(r'RDF $g(r)$',fontsize=20)\n",
    "    #axs[1][0].set_xlabel(r'Radial separation $r$ [simulation unit]',fontsize=20)\n",
    "    axs[1][0].set_ylabel(r'Ratios',fontsize=20)\n",
    "\n",
    "    axs[0][1].set_title(r'Relative velocity $\\langle w^2\\rangle^{1/2}$',fontsize=20)\n",
    "    axs[1][1].set_xlabel(r'Radial separation $r$ [simulation unit]',fontsize=20)\n",
    "    #axs[1][1].set_ylabel(r'Ratio of relative particle velocity')\n",
    "\n",
    "    axs[0][2].set_title(r'Relative radial velocity $\\langle w^2_r\\rangle^{1/2}$',fontsize=20)\n",
    "    #axs[1][2].set_xlabel(r'Radial separation $r$ [simulation unit]',fontsize=20)\n",
    "    #axs[1][2].set_ylabel(r'Ratio of relative radial particle velocity')\n",
    "\n",
    "    #axs[0][1].set_title('Particle statistics of normal validation set\\n',fontsize=14)\n",
    "    \n",
    "    pdf.savefig(fig)"
   ]
  },
  {
   "cell_type": "code",
   "execution_count": null,
   "id": "d638ee7d-6c3d-4c74-99cd-ddff8d16c87e",
   "metadata": {},
   "outputs": [],
   "source": []
  },
  {
   "cell_type": "code",
   "execution_count": 19,
   "id": "36cd99dd-ed92-4d6d-a882-5b5c9c117eac",
   "metadata": {},
   "outputs": [
    {
     "data": {
      "image/png": "[encoded data removed]",
      "text/plain": [
       "<Figure size 432x288 with 1 Axes>"
      ]
     },
     "metadata": {
      "needs_background": "light"
     },
     "output_type": "display_data"
    }
   ],
   "source": [
    "plt.plot(rdf_tgt['binCenters'], rdf_tgt['mean'])\n",
    "plt.fill_between(rdf_tgt['binCenters'],rdf_tgt['q1'],rdf_tgt['q3'],alpha=0.5)\n",
    "plt.yscale('log')\n",
    "plt.xscale('log')"
   ]
  },
  {
   "cell_type": "code",
   "execution_count": null,
   "id": "77ca77ff-372c-4afe-8678-ba36dba943c0",
   "metadata": {},
   "outputs": [],
   "source": []
  },
  {
   "cell_type": "code",
   "execution_count": null,
   "id": "c2e93ec0-d470-435d-8835-b8a19b50cec1",
   "metadata": {},
   "outputs": [],
   "source": []
  }
 ],
 "metadata": {
  "kernelspec": {
   "display_name": "Python 3 (ipykernel)",
   "language": "python",
   "name": "python3"
  },
  "language_info": {
   "codemirror_mode": {
    "name": "ipython",
    "version": 3
   },
   "file_extension": ".py",
   "mimetype": "text/x-python",
   "name": "python",
   "nbconvert_exporter": "python",
   "pygments_lexer": "ipython3",
   "version": "3.9.12"
  }
 },
 "nbformat": 4,
 "nbformat_minor": 5
}
