{
 "cells": [
  {
   "cell_type": "code",
   "execution_count": 33,
   "id": "630a13a6-5c02-4dc4-9f71-880ae9819fbd",
   "metadata": {},
   "outputs": [],
   "source": [
    "import matplotlib.pyplot as plt\n",
    "import json\n",
    "import numpy as np \n",
    "import glob\n",
    "import os \n",
    "import re\n",
    "from copy import deepcopy\n",
    "import matplotlib\n",
    "from matplotlib.lines import Line2D\n",
    "from matplotlib.backends.backend_pdf import PdfPages\n",
    "from cycler import cycler"
   ]
  },
  {
   "cell_type": "code",
   "execution_count": 34,
   "id": "5d16e59f-6859-43da-9273-3702a708a2da",
   "metadata": {},
   "outputs": [],
   "source": [
    "import matplotlib as mpl\n",
    "mpl.rcParams.update(mpl.rcParamsDefault)"
   ]
  },
  {
   "cell_type": "code",
   "execution_count": 35,
   "id": "7048f7fa-128d-4fda-99fc-1b216a732007",
   "metadata": {},
   "outputs": [],
   "source": [
    "def format_json(json, formatter):\n",
    "    for key, val in json.items():\n",
    "        if key in formatter.keys():\n",
    "            json[key] = formatter[key](val)\n",
    "    return json"
   ]
  },
  {
   "cell_type": "code",
   "execution_count": 36,
   "id": "23f16575-d02d-41fd-b717-93a3316afd05",
   "metadata": {},
   "outputs": [],
   "source": [
    "def get_frame_id(path):\n",
    "    path = os.path.basename(path)\n",
    "    return re.findall(r'[0-9][0-9][0-9][0-9][0-9]',path)[0]"
   ]
  },
  {
   "cell_type": "code",
   "execution_count": 37,
   "id": "c8ee801c-675b-497a-ad98-9aa08fe64186",
   "metadata": {},
   "outputs": [],
   "source": [
    "def get_valid_vrel(path, valid_set):\n",
    "    paths = sorted(list(glob.glob(path)))\n",
    "    #print(paths)\n",
    "    vrel_list = []\n",
    "    for path in paths:\n",
    "        with open(path,'r') as json_file:\n",
    "            frame = json.load(json_file)\n",
    "            if get_frame_id(frame['rhop-path']) in valid_set:\n",
    "                formatter = {\n",
    "                    'binEdges':np.array,\n",
    "                    'binCenters':np.array,\n",
    "                    'velc_sum': np.array,\n",
    "                    'velc_rad_sum': np.array\n",
    "                }\n",
    "                format_json(frame,formatter)\n",
    "                vrel_list.append(deepcopy(frame))\n",
    "            del frame\n",
    "    return vrel_list"
   ]
  },
  {
   "cell_type": "code",
   "execution_count": 38,
   "id": "0068e6cb-e8ba-4249-a8c0-bc6be6a31b17",
   "metadata": {},
   "outputs": [
    {
     "data": {
      "text/plain": [
       "[{'rhop-path': '/mnt/home/tchan1/ceph/mldust-ver2/data/npy/TurbPar.out2.00100.hdf5-rhop.npy',\n",
       "  'vp-path': '/mnt/home/tchan1/ceph/mldust-ver2/data/npy/TurbPar.out2.00100.hdf5-vp.npy',\n",
       "  'nsamples': 65536,\n",
       "  'binEdges': array([0.00832665, 0.00945869, 0.01074463, 0.01220539, 0.01386476,\n",
       "         0.01574972, 0.01789094, 0.02032328, 0.0230863 , 0.02622496,\n",
       "         0.02979033, 0.03384042, 0.03844114, 0.04366734, 0.04960406,\n",
       "         0.0563479 , 0.06400859, 0.07271077, 0.08259605, 0.09382525]),\n",
       "  'binCenters': array([0.00887464, 0.01008117, 0.01145174, 0.01300864, 0.01477721,\n",
       "         0.01678622, 0.01906837, 0.02166078, 0.02460563, 0.02795085,\n",
       "         0.03175086, 0.0360675 , 0.04097099, 0.04654114, 0.05286856,\n",
       "         0.06005622, 0.06822107, 0.07749595, 0.08803178]),\n",
       "  'rdf': [0.19281383438452288,\n",
       "   0.18336917825171484,\n",
       "   0.16552658471859058,\n",
       "   0.15659389784809047,\n",
       "   0.14693056752162503,\n",
       "   0.1377934461303152,\n",
       "   0.12973140417799048,\n",
       "   0.1237142794707285,\n",
       "   0.11872450693062118,\n",
       "   0.11446604475056289,\n",
       "   0.11117064498509399,\n",
       "   0.10860636948891068,\n",
       "   0.10646295215103538,\n",
       "   0.10466150010107858,\n",
       "   0.10330755363165427,\n",
       "   0.1022679715560754,\n",
       "   0.10147422114240248,\n",
       "   0.10091109741506574,\n",
       "   0.10055384034142183],\n",
       "  'velc_sum': array([0.00208844, 0.00246303, 0.0034265 , 0.00409229, 0.00503486,\n",
       "         0.00624051, 0.00773891, 0.00921319, 0.01089122, 0.01278613,\n",
       "         0.01476015, 0.01677655, 0.0189433 , 0.02137615, 0.02386604,\n",
       "         0.0263741 , 0.02899446, 0.03170296, 0.03439714]),\n",
       "  'velc_rad_sum': array([0.01826019, 0.01997392, 0.02389859, 0.02639301, 0.02952546,\n",
       "         0.03320005, 0.0373169 , 0.04104987, 0.04493649, 0.04900548,\n",
       "         0.05294109, 0.05678421, 0.06063997, 0.06471199, 0.06863367,\n",
       "         0.07244066, 0.07627241, 0.08001835, 0.08364093])}]"
      ]
     },
     "execution_count": 38,
     "metadata": {},
     "output_type": "execute_result"
    }
   ],
   "source": [
    "get_valid_vrel('/mnt/home/tchan1/ceph/grid-stats/tgt-normal/*.json',['00100'])"
   ]
  },
  {
   "cell_type": "code",
   "execution_count": 39,
   "id": "b2eaa9d7-b901-4f34-9e1b-6bdcd2b106b1",
   "metadata": {},
   "outputs": [
    {
     "name": "stdout",
     "output_type": "stream",
     "text": [
      "athdf\t\t\t     mldust-ver2\t   tab\n",
      "check_ml_architecture.ipynb  norm\t\t   test-dir\n",
      "dd\t\t\t     part-grid-hypothesis  two-stage-remake\n",
      "diff-eps\t\t     particle-stats\t   unet-prev-state\n",
      "exp-train\t\t     plot\t\t   unet-x2\n",
      "grid-stats\t\t     preped-curl\t   velc-trained-state\n",
      "hist-dump\t\t     preped-hdf5\t   vg-rel\n",
      "loss-remake\t\t     preped-npy\t\t   vrel-gas\n",
      "mask\t\t\t     rdf-grid\t\t   weight-decay\n",
      "miniconda3\t\t     state\n",
      "mldust\t\t\t     state2\n"
     ]
    }
   ],
   "source": [
    "! ls ~/ceph/"
   ]
  },
  {
   "cell_type": "code",
   "execution_count": 40,
   "id": "73aff4f4-4702-4cb6-b57a-489391ed1266",
   "metadata": {},
   "outputs": [],
   "source": [
    "#b/mnt/home/tchan1/ceph/particle-stats/"
   ]
  },
  {
   "cell_type": "code",
   "execution_count": 41,
   "id": "a0d5644f-45ee-4b45-a22a-2902a9553e27",
   "metadata": {},
   "outputs": [],
   "source": [
    "## Color\n",
    "mycolors = ['#785EF0', '#DC267F', '#FFB000']"
   ]
  },
  {
   "cell_type": "code",
   "execution_count": 43,
   "id": "ef1b02fd-6610-4491-9c37-600fb00ba44b",
   "metadata": {},
   "outputs": [],
   "source": [
    "tgt_vrel = dict(\n",
    "    normal=dict(\n",
    "        path='/mnt/home/tchan1/ceph/grid-stats/tgt-normal/*.json',\n",
    "        frame='00103',\n",
    "        label='ATHENA++',\n",
    "        color=mycolors[0],\n",
    "    ),\n",
    "    kdrive38=dict(\n",
    "        path='/mnt/home/tchan1/ceph/grid-stats/tgt-kdrive3-8/*.json',\n",
    "        frame='00010',\n",
    "        label='ATHENA++',\n",
    "        color=mycolors[0],\n",
    "    ),\n",
    "    dedt5e4=dict(\n",
    "        path='/mnt/home/tchan1/ceph/grid-stats/tgt-dedt5e-4/*.json',\n",
    "        frame='00010',\n",
    "        label='ATHENA++',\n",
    "        color=mycolors[0],\n",
    "    ),\n",
    "    ts0001=dict(\n",
    "        path='/mnt/home/tchan1/ceph/grid-stats/tgt-ts0.001/*.json',\n",
    "        frame='00100',\n",
    "        label='ATHENA++',\n",
    "        color=mycolors[0],\n",
    "    )\n",
    ")"
   ]
  },
  {
   "cell_type": "code",
   "execution_count": 45,
   "id": "1665044d-56be-413d-9487-182631cb3329",
   "metadata": {},
   "outputs": [],
   "source": [
    "out_vrel = dict(\n",
    "    normalr=dict(\n",
    "        path='/mnt/home/tchan1/ceph/grid-stats/out-longer3/*.json',\n",
    "        frame='00103',\n",
    "        label='UNET-R',\n",
    "        plot=0,\n",
    "        tgt='normal',\n",
    "        color=mycolors[1],\n",
    "        ls='-',\n",
    "    ),\n",
    "    normalv=dict(\n",
    "        path='/mnt/home/tchan1/ceph/grid-stats/out_wvelc-out_wvelc/*.json',\n",
    "        frame='00103',\n",
    "        label='UNET-V',\n",
    "        plot=0,\n",
    "        tgt='normal',\n",
    "        color=mycolors[2],\n",
    "        ls='-',\n",
    "    ),\n",
    "    normal_vg=dict(\n",
    "        path='/mnt/home/tchan1/ceph/vg-rel/normal/*.json',\n",
    "        frame='00103',\n",
    "        label='VG',\n",
    "        plot=0,\n",
    "        tgt='normal',\n",
    "        color='grey',\n",
    "        ls=':',\n",
    "    ),\n",
    "    kdrive38=dict(  \n",
    "        path='/mnt/home/tchan1/ceph/grid-stats/out-longer3-generalize/kdrive3-8-stats/*.json',\n",
    "        frame='00010',\n",
    "        label='UNET-R',\n",
    "        plot=1,\n",
    "        tgt='kdrive38',\n",
    "        color=mycolors[1],\n",
    "        ls='-',\n",
    "    ),\n",
    "    kdrive38_vg=dict(\n",
    "        path='/mnt/home/tchan1/ceph/vg-rel/kdrive3-8/*.json',\n",
    "        frame='00010',\n",
    "        label='VG',\n",
    "        plot=1,\n",
    "        tgt='kdrive38',\n",
    "        color='grey',\n",
    "        ls=':',\n",
    "    ),\n",
    "    dedt5e4=dict(\n",
    "        path='/mnt/home/tchan1/ceph/grid-stats/out-longer3-generalize/dedt5e-4-stats/*.json',\n",
    "        frame='00010',\n",
    "        label='UNET-R',\n",
    "        plot=2,\n",
    "        tgt='dedt5e4',\n",
    "        color=mycolors[1],\n",
    "        ls='-',\n",
    "    ),\n",
    "    dedt5e4_vg=dict(\n",
    "        path='/mnt/home/tchan1/ceph/vg-rel/dedt5e-4/*.json',\n",
    "        frame='00010',\n",
    "        label='VG',\n",
    "        plot=2,\n",
    "        tgt='dedt5e4',\n",
    "        color='grey',\n",
    "        ls=':',\n",
    "    ),\n",
    "    ts0001=dict(\n",
    "        path='/mnt/home/tchan1/ceph/grid-stats/out-longer3-generalize/ts0.001-stats/*.json',\n",
    "        frame='00100',\n",
    "        label='UNET-R',\n",
    "        plot=3,\n",
    "        tgt='ts0001',\n",
    "        color=mycolors[1],\n",
    "        ls='-',\n",
    "    ),\n",
    "    ts0001_vg=dict(\n",
    "        path='/mnt/home/tchan1/ceph/vg-rel/ts0.001/*.json',\n",
    "        frame='00100',\n",
    "        label='VG',\n",
    "        plot=3,\n",
    "        tgt='ts0001',\n",
    "        color='grey',\n",
    "        ls=':',\n",
    "    )\n",
    ")"
   ]
  },
  {
   "cell_type": "code",
   "execution_count": 46,
   "id": "2d24fac7-3552-4805-97c7-f83f0f2d7cb5",
   "metadata": {},
   "outputs": [],
   "source": [
    "title_dict = dict(\n",
    "    normal=dict(\n",
    "        title='Normal',\n",
    "        plot=0\n",
    "    ),\n",
    "    kdrive38=dict(\n",
    "        title=r'$k_{min},k_{max}=3,8$',\n",
    "        plot=1,\n",
    "    ),\n",
    "    dedt5e4=dict(\n",
    "        title=r'$\\langle\\dot{e}\\rangle = 5\\times 10^{-4}$',\n",
    "        plot=2,\n",
    "    ),\n",
    "    ts0001=dict(\n",
    "        title=r'$\\tau_s=0.001$',\n",
    "        plot=3,\n",
    "    )\n",
    ")"
   ]
  },
  {
   "cell_type": "code",
   "execution_count": 47,
   "id": "1ed21458-8cc7-4858-8c1b-7e48876dc006",
   "metadata": {},
   "outputs": [],
   "source": [
    "for tgt_key, meta in tgt_vrel.items():\n",
    "    vrel = get_valid_vrel(meta['path'],[meta['frame']])[0]\n",
    "    meta['data']=deepcopy(vrel)"
   ]
  },
  {
   "cell_type": "code",
   "execution_count": 48,
   "id": "f0f6522d-37ea-4aee-b8c5-dae606cabe55",
   "metadata": {},
   "outputs": [],
   "source": [
    "for out_key, meta in out_vrel.items():\n",
    "    vrel = get_valid_vrel(meta['path'],[meta['frame']])[0]\n",
    "    meta['data'] = deepcopy(vrel)"
   ]
  },
  {
   "cell_type": "code",
   "execution_count": 49,
   "id": "18b30751-3ff7-45dc-aa1b-9d411c48470b",
   "metadata": {},
   "outputs": [],
   "source": [
    "plot_spec = dict(\n",
    "    nrows=2, ncols=4,\n",
    "    constrained_layout=True,\n",
    "    sharex='col',sharey='row',\n",
    "    dpi=600,\n",
    "    figsize=(11.0,6)\n",
    ")"
   ]
  },
  {
   "cell_type": "code",
   "execution_count": 50,
   "id": "6da83d41-4338-4d5b-9136-48a9a5257711",
   "metadata": {},
   "outputs": [],
   "source": [
    "plt.rcParams.update({\n",
    "    \"text.usetex\": True,\n",
    "    \"font.family\": \"serif\",\n",
    "    \"font.sans-serif\": [\"Helvetica\"]})"
   ]
  },
  {
   "cell_type": "code",
   "execution_count": 51,
   "id": "bfbf40d1-57e8-4440-a052-19a698c2b342",
   "metadata": {},
   "outputs": [
    {
     "data": {
      "text/plain": [
       "array([0.00887464, 0.01008117, 0.01145174, 0.01300864, 0.01477721,\n",
       "       0.01678622, 0.01906837, 0.02166078, 0.02460563, 0.02795085,\n",
       "       0.03175086, 0.0360675 , 0.04097099, 0.04654114, 0.05286856,\n",
       "       0.06005622, 0.06822107, 0.07749595, 0.08803178])"
      ]
     },
     "execution_count": 51,
     "metadata": {},
     "output_type": "execute_result"
    }
   ],
   "source": [
    "out_vrel['dedt5e4']['data']['binCenters']"
   ]
  },
  {
   "cell_type": "code",
   "execution_count": 55,
   "id": "42170eda-69ce-4748-9fbe-94604244ae09",
   "metadata": {},
   "outputs": [],
   "source": [
    " with PdfPages('vrel_compare_all.pdf') as pp:\n",
    "    fig, axs = plt.subplots(**plot_spec)\n",
    "\n",
    "\n",
    "    # Plot all the targets\n",
    "    for i, (tgt_key, meta) in enumerate(tgt_vrel.items()):\n",
    "        axs[0][i].plot(meta['data']['binCenters'],np.sqrt(meta['data']['velc_sum']),\n",
    "                       label=meta['label'],color=meta['color'])\n",
    "\n",
    "    # Plot all outputs\n",
    "    for out_key, meta in out_vrel.items():\n",
    "        axs[0][meta['plot']].plot(meta['data']['binCenters'],np.sqrt(meta['data']['velc_sum']),\n",
    "                                  label=meta['label'],color=meta['color'],ls=meta['ls'])\n",
    "        #axs[0][meta['plot']].legend()\n",
    "\n",
    "    # Plot all ratios\n",
    "    for out_keys, meta in out_vrel.items():\n",
    "        tgt = tgt_vrel[meta['tgt']]\n",
    "        axs[1][meta['plot']].plot(meta['data']['binCenters'],\n",
    "                                  np.sqrt(meta['data']['velc_sum']/tgt['data']['velc_sum']),\n",
    "                                  label='{}/{}'.format(meta['label'],tgt['label']),\n",
    "                                  color=meta['color'],ls=meta['ls']\n",
    "                                 )\n",
    "        #axs[1][meta['plot']].legend()\n",
    "        \n",
    "    # Zoom-in plot\n",
    "    meta = out_vrel['dedt5e4']\n",
    "    tgt = tgt_vrel[meta['tgt']]\n",
    "    axin1 = axs[1][2].inset_axes([0.18, 0.15, 0.3, 0.3])\n",
    "    axin1.plot(meta['data']['binCenters'],\n",
    "               np.sqrt(meta['data']['velc_sum']/tgt['data']['velc_sum']),color=meta['color'])#,label=meta['label'])\n",
    "    axin1.set_xlim(0.00887,2e-2)\n",
    "    axin1.set_ylim(1.2,1.4)\n",
    "    axin1.set_xscale('log')\n",
    "    axin1.set_xticks([1e-2,2e-2])\n",
    "    axin1.get_xaxis().set_minor_formatter(matplotlib.ticker.NullFormatter())\n",
    "\n",
    "    \"\"\"# Zoom-in plot\n",
    "    axin1 = axs[1][3].inset_axes([0.18, 0.15, 0.3, 0.3])\n",
    "    axin1.plot(meta['data']['binCenters'],meta['data']['RDF']/tgt['data']['RDF'],color=meta['color'])#,label=meta['label'])\n",
    "    axin1.set_xlim(1/256,3e-2)\n",
    "    axin1.set_ylim(1.75,2.5)\n",
    "    axin1.set_xscale('log')\n",
    "    axin1.set_xticks([0.4e-2,3e-2])\n",
    "    axin1.get_xaxis().set_minor_formatter(matplotlib.ticker.NullFormatter())\n",
    "    #zoom_line1 = Line2D([0.18,1],[0.15,0.15+1])\n",
    "    #axs[1][3].add_line(zoom_line1)\n",
    "    #axs[1][3].indicate_inset_zoom(axin1, edgecolor=\"grey\")\"\"\"\n",
    "\n",
    "    # Plotting configurations for row 0\n",
    "    for i,ax in enumerate(axs[0]):\n",
    "        ax.set_yscale('log')\n",
    "        ax.set_xscale('log')\n",
    "        #ax.axhline(1,ls='--',color='grey',alpha=0.8)\n",
    "        if i == 0:\n",
    "            ax.legend(fontsize=11)\n",
    "\n",
    "    for i,ax in enumerate(axs[1]):\n",
    "        ax.axhline(1,ls='--',color='grey',alpha=0.8)\n",
    "        ax.set_ylim(0.80,1.20)\n",
    "        if i == 0:\n",
    "            pass\n",
    "            #ax.legend()\n",
    "    for title_key, meta in title_dict.items():\n",
    "        axs[0][meta['plot']].set_title(meta['title'],fontsize=20)\n",
    "\n",
    "    fig.supxlabel(r'$r$ [simulation unit]',fontsize=21)\n",
    "    axs[0][0].set_ylabel(r'$\\langle w^2\\rangle^{1/2}$',fontsize=21)\n",
    "    axs[1][0].set_ylabel(r'$\\langle w^2\\rangle^{1/2}_{out}/\\langle w^2\\rangle^{1/2}_{tgt}$',fontsize=21)\n",
    "    #axs[0][1].set_title('')\n",
    "    pp.savefig()"
   ]
  },
  {
   "cell_type": "code",
   "execution_count": 53,
   "id": "4a763e2b-38b9-4a24-b7a1-4d1310049aed",
   "metadata": {},
   "outputs": [],
   "source": [
    " with PdfPages('vrel_rad_compare_all.pdf') as pp:\n",
    "    fig, axs = plt.subplots(**plot_spec)\n",
    "\n",
    "\n",
    "    # Plot all the targets\n",
    "    for i, (tgt_key, meta) in enumerate(tgt_vrel.items()):\n",
    "        axs[0][i].plot(meta['data']['binCenters'],np.sqrt(meta['data']['velc_rad_sum']),\n",
    "                       label=meta['label'],color=meta['color'])\n",
    "\n",
    "    # Plot all outputs\n",
    "    for out_key, meta in out_vrel.items():\n",
    "        axs[0][meta['plot']].plot(meta['data']['binCenters'],np.sqrt(meta['data']['velc_rad_sum']),\n",
    "                                  label=meta['label'],color=meta['color'],ls=meta['ls'])\n",
    "        #axs[0][meta['plot']].legend()\n",
    "\n",
    "    # Plot all ratios\n",
    "    for out_keys, meta in out_vrel.items():\n",
    "        tgt = tgt_vrel[meta['tgt']]\n",
    "        axs[1][meta['plot']].plot(meta['data']['binCenters'],\n",
    "                                  np.sqrt(meta['data']['velc_rad_sum']/tgt['data']['velc_rad_sum']),\n",
    "                                  label='{}/{}'.format(meta['label'],tgt['label']),\n",
    "                                  color=meta['color'],ls=meta['ls']\n",
    "                                 )\n",
    "        #axs[1][meta['plot']].legend()\n",
    "\n",
    "    \"\"\"# Zoom-in plot\n",
    "    axin1 = axs[1][3].inset_axes([0.18, 0.15, 0.3, 0.3])\n",
    "    axin1.plot(meta['data']['binCenters'],meta['data']['RDF']/tgt['data']['RDF'],color=meta['color'])#,label=meta['label'])\n",
    "    axin1.set_xlim(1/256,3e-2)\n",
    "    axin1.set_ylim(1.75,2.5)\n",
    "    axin1.set_xscale('log')\n",
    "    axin1.set_xticks([0.4e-2,3e-2])\n",
    "    axin1.get_xaxis().set_minor_formatter(matplotlib.ticker.NullFormatter())\n",
    "    #zoom_line1 = Line2D([0.18,1],[0.15,0.15+1])\n",
    "    #axs[1][3].add_line(zoom_line1)\n",
    "    #axs[1][3].indicate_inset_zoom(axin1, edgecolor=\"grey\")\"\"\"\n",
    "\n",
    "    # Plotting configurations for row 0\n",
    "    for i,ax in enumerate(axs[0]):\n",
    "        ax.set_yscale('log')\n",
    "        ax.set_xscale('log')\n",
    "        #ax.axhline(1,ls='--',color='grey',alpha=0.8)\n",
    "        if i == 0:\n",
    "            ax.legend(fontsize=11)\n",
    "\n",
    "    for i,ax in enumerate(axs[1]):\n",
    "        ax.axhline(1,ls='--',color='grey',alpha=0.8)\n",
    "        #ax.set_ylim(0.85,1.15)\n",
    "        if i == 0:\n",
    "            pass\n",
    "            #ax.legend()\n",
    "    for title_key, meta in title_dict.items():\n",
    "        axs[0][meta['plot']].set_title(meta['title'],fontsize=20)\n",
    "\n",
    "    fig.supxlabel(r'$r$ [simulation unit]',fontsize=21)\n",
    "    axs[0][0].set_ylabel(r'$\\langle w^2_r\\rangle^{1/2}$',fontsize=21)\n",
    "    axs[1][0].set_ylabel(r'$\\langle w^2_r\\rangle^{1/2}_{out}/\\langle w^2_r\\rangle^{1/2}_{tgt}$',fontsize=21)\n",
    "    pp.savefig()\n",
    "#axs[0][1].set_title('')\n"
   ]
  },
  {
   "cell_type": "code",
   "execution_count": 56,
   "id": "4c0668d8-b4df-453d-8ac1-566fc085c92e",
   "metadata": {},
   "outputs": [
    {
     "name": "stdout",
     "output_type": "stream",
     "text": [
      "/mnt/ceph/users/tchan1/rdf-grid\n"
     ]
    }
   ],
   "source": [
    "! pwd"
   ]
  },
  {
   "cell_type": "code",
   "execution_count": null,
   "id": "ad7ba960-ae26-43b7-b4e8-6f73e14342b5",
   "metadata": {},
   "outputs": [],
   "source": []
  },
  {
   "cell_type": "code",
   "execution_count": null,
   "id": "2f72cf8f-5e65-444c-848e-67df772ef7ce",
   "metadata": {},
   "outputs": [],
   "source": []
  }
 ],
 "metadata": {
  "kernelspec": {
   "display_name": "Python 3 (ipykernel)",
   "language": "python",
   "name": "python3"
  },
  "language_info": {
   "codemirror_mode": {
    "name": "ipython",
    "version": 3
   },
   "file_extension": ".py",
   "mimetype": "text/x-python",
   "name": "python",
   "nbconvert_exporter": "python",
   "pygments_lexer": "ipython3",
   "version": "3.9.12"
  }
 },
 "nbformat": 4,
 "nbformat_minor": 5
}
